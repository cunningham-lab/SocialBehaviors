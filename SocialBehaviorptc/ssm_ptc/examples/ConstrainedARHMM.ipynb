{
 "cells": [
  {
   "cell_type": "code",
   "execution_count": 1,
   "metadata": {
    "collapsed": true
   },
   "outputs": [],
   "source": [
    "import sys\n",
    "sys.path.append('/Users/leah/Columbia/courses/19summer/SocialBehavior/SocialBehaviorptc')"
   ]
  },
  {
   "cell_type": "code",
   "execution_count": 70,
   "metadata": {
    "collapsed": true
   },
   "outputs": [],
   "source": [
    "from socialbehavior.models.hmm import HMM\n",
    "from socialbehavior.observations.ar_gaussian_observation import ARGaussianObservation\n",
    "from socialbehavior.transformations.linear import LinearTransformation\n",
    "from socialbehavior.transformations.constrained_linear import ConstrainedLinearTransformation\n",
    "from socialbehavior.utils import find_permutation, random_rotation, k_step_prediction\n",
    "\n",
    "import torch\n",
    "import numpy as np\n",
    "import matplotlib.pyplot as plt\n",
    "\n",
    "from tqdm import tqdm_notebook as tqdm\n",
    "import time"
   ]
  },
  {
   "cell_type": "markdown",
   "metadata": {},
   "source": [
    "# Generate synthetic data from constrained ARHMM"
   ]
  },
  {
   "cell_type": "code",
   "execution_count": 3,
   "metadata": {
    "collapsed": false
   },
   "outputs": [],
   "source": [
    "torch.manual_seed(0)\n",
    "\n",
    "K = 3\n",
    "D = 2\n",
    "T = 100\n",
    "\n",
    "As = [random_rotation(D) for _ in range(K)]\n",
    "bounds = np.array([[0, 20], [0,40]])\n",
    "\n",
    "#pi0 = np.array([1,2,1])\n",
    "#P = np.array([[1,2,1], [1,0.5,1], [2,2,1]])\n",
    "\n",
    "true_tran = ConstrainedLinearTransformation(K=K, d_in=D, d_out=D, As=As, bounds=bounds)\n",
    "true_observation = ARGaussianObservation(K=K, D=D, M=0, transformation=true_tran)\n",
    "true_model = HMM(K=K, D=D, M=0, observation=true_observation)\n",
    "\n",
    "z, data = true_model.sample(T, return_np=False)"
   ]
  },
  {
   "cell_type": "markdown",
   "metadata": {},
   "source": [
    "# Fit a constrained ARHMM to the data"
   ]
  },
  {
   "cell_type": "code",
   "execution_count": 61,
   "metadata": {
    "collapsed": true
   },
   "outputs": [],
   "source": [
    "tran = ConstrainedLinearTransformation(K=K, d_in=D, d_out=D, bounds=bounds)\n",
    "observation = ARGaussianObservation(K=K, D=D, M=0, transformation=tran)\n",
    "model = HMM(K=K, D=D, M=0, observation=observation)"
   ]
  },
  {
   "cell_type": "code",
   "execution_count": 62,
   "metadata": {
    "collapsed": false
   },
   "outputs": [
    {
     "data": {
      "application/vnd.jupyter.widget-view+json": {
       "model_id": "f30d8c36c68245419040121067f1ebd7",
       "version_major": 2,
       "version_minor": 0
      },
      "text/plain": [
       "HBox(children=(IntProgress(value=0, max=1000), HTML(value='')))"
      ]
     },
     "metadata": {},
     "output_type": "display_data"
    }
   ],
   "source": [
    "num_iters = 1000\n",
    "\n",
    "pbar = tqdm(total=num_iters, file=sys.stdout)\n",
    "\n",
    "optimizer = torch.optim.Adam(model.params, lr=0.005)\n",
    "\n",
    "losses = []\n",
    "for i in np.arange(num_iters):\n",
    "\n",
    "    optimizer.zero_grad()\n",
    "\n",
    "    loss = model.loss(data)    \n",
    "    loss.backward(retain_graph=True)\n",
    "    optimizer.step()\n",
    "    \n",
    "    loss = loss.detach().numpy()\n",
    "    losses.append(loss)\n",
    "    \n",
    "    if i % 10 == 0:\n",
    "        pbar.set_description('iter {} loss {:.2f}'.format(i, loss))\n",
    "        pbar.update(10)"
   ]
  },
  {
   "cell_type": "code",
   "execution_count": 63,
   "metadata": {
    "collapsed": false
   },
   "outputs": [
    {
     "data": {
      "image/png": "[encoded data removed]",
      "text/plain": [
       "<Figure size 432x288 with 1 Axes>"
      ]
     },
     "metadata": {
      "needs_background": "light"
     },
     "output_type": "display_data"
    }
   ],
   "source": [
    "true_loss = true_model.loss(data)\n",
    "plt.plot(losses, label='fitted model')\n",
    "plt.plot(np.arange(num_iters), [true_loss]*num_iters, label='true model')\n",
    "plt.legend()\n",
    "plt.show()"
   ]
  },
  {
   "cell_type": "code",
   "execution_count": 64,
   "metadata": {
    "collapsed": false
   },
   "outputs": [
    {
     "data": {
      "text/plain": [
       "tensor([[[ 0.1589,  0.5299],\n",
       "         [-0.1921,  0.2145]],\n",
       "\n",
       "        [[-0.1915,  0.9896],\n",
       "         [-1.4217,  0.0434]],\n",
       "\n",
       "        [[ 0.9578, -0.1735],\n",
       "         [-0.4227,  0.5952]]], dtype=torch.float64, requires_grad=True)"
      ]
     },
     "execution_count": 64,
     "metadata": {},
     "output_type": "execute_result"
    }
   ],
   "source": [
    "tran.As"
   ]
  },
  {
   "cell_type": "code",
   "execution_count": 65,
   "metadata": {
    "collapsed": true
   },
   "outputs": [],
   "source": [
    "infer_z = model.most_likely_states(data)\n",
    "\n",
    "perm = find_permutation(z.numpy(), infer_z, K1=K, K2=K)\n",
    "\n",
    "model.permute(perm)\n",
    "hmm_z = model.most_likely_states(data)"
   ]
  },
  {
   "cell_type": "code",
   "execution_count": 66,
   "metadata": {
    "collapsed": false
   },
   "outputs": [
    {
     "data": {
      "image/png": "[encoded data removed]",
      "text/plain": [
       "<Figure size 576x288 with 4 Axes>"
      ]
     },
     "metadata": {
      "needs_background": "light"
     },
     "output_type": "display_data"
    }
   ],
   "source": [
    "# Plot the true and inferred discrete states\n",
    "slc = slice(0, T)\n",
    "\n",
    "plt.figure(figsize=(8, 4))\n",
    "plt.subplot(211)\n",
    "plt.imshow(z[None, slc], aspect=\"auto\")\n",
    "plt.ylabel(\"$z_{\\\\mathrm{true}}$\")\n",
    "plt.yticks([])\n",
    "plt.colorbar()\n",
    "\n",
    "plt.subplot(212)\n",
    "plt.imshow(hmm_z[None,slc], aspect=\"auto\")\n",
    "plt.ylabel(\"$z_{\\\\mathrm{inferred}}$\")\n",
    "plt.yticks([])\n",
    "plt.xlabel(\"time\")\n",
    "plt.colorbar()\n",
    "\n",
    "plt.tight_layout()"
   ]
  },
  {
   "cell_type": "markdown",
   "metadata": {},
   "source": [
    "# check prediction"
   ]
  },
  {
   "cell_type": "code",
   "execution_count": 67,
   "metadata": {
    "collapsed": true
   },
   "outputs": [],
   "source": [
    "x_predict_cond_z = k_step_prediction(model, z, data)"
   ]
  },
  {
   "cell_type": "code",
   "execution_count": 68,
   "metadata": {
    "collapsed": true
   },
   "outputs": [],
   "source": [
    "x_predict_cond_most_likely_z = k_step_prediction(model, hmm_z, data)"
   ]
  },
  {
   "cell_type": "code",
   "execution_count": 69,
   "metadata": {
    "collapsed": false
   },
   "outputs": [
    {
     "data": {
      "text/plain": [
       "<matplotlib.legend.Legend at 0x1205ea208>"
      ]
     },
     "execution_count": 69,
     "metadata": {},
     "output_type": "execute_result"
    },
    {
     "data": {
      "image/png": "[encoded data removed]",
      "text/plain": [
       "<Figure size 432x288 with 1 Axes>"
      ]
     },
     "metadata": {
      "needs_background": "light"
     },
     "output_type": "display_data"
    }
   ],
   "source": [
    "#plt.plot(x_predict_cond_z[:,0], label='predict')\n",
    "plt.plot(x_predict_cond_most_likely_z[:,0], label='predict2')\n",
    "plt.plot(data[:,0].numpy(), label='true')\n",
    "plt.legend()"
   ]
  },
  {
   "cell_type": "markdown",
   "metadata": {},
   "source": [
    "# Generate synthetic data from (unconstrained) ARHMM"
   ]
  },
  {
   "cell_type": "code",
   "execution_count": 141,
   "metadata": {
    "collapsed": true
   },
   "outputs": [],
   "source": [
    "true_tran_2 = LinearTransformation(K=K, d_in=D, d_out=D, As=As)\n",
    "true_observation_2 = ARGaussianObservation(K=K, D=D, M=0, transformation=true_tran_2)\n",
    "true_model_2 = HMM(K=K, D=D, M=0, observation=true_observation_2)\n",
    "\n",
    "z_2, data_2 = true_model_2.sample(T, return_np=False)"
   ]
  },
  {
   "cell_type": "code",
   "execution_count": 142,
   "metadata": {
    "collapsed": false
   },
   "outputs": [
    {
     "data": {
      "text/plain": [
       "torch.Size([100, 2])"
      ]
     },
     "execution_count": 142,
     "metadata": {},
     "output_type": "execute_result"
    }
   ],
   "source": [
    "data_2.shape"
   ]
  },
  {
   "cell_type": "code",
   "execution_count": 143,
   "metadata": {
    "collapsed": false
   },
   "outputs": [
    {
     "data": {
      "text/plain": [
       "torch.return_types.min(\n",
       "values=tensor([-70.9968, -73.8978], dtype=torch.float64),\n",
       "indices=tensor([46, 53]))"
      ]
     },
     "execution_count": 143,
     "metadata": {},
     "output_type": "execute_result"
    }
   ],
   "source": [
    "torch.min(data_2, dim=0)"
   ]
  },
  {
   "cell_type": "code",
   "execution_count": 144,
   "metadata": {
    "collapsed": false
   },
   "outputs": [
    {
     "data": {
      "text/plain": [
       "torch.return_types.max(\n",
       "values=tensor([75.6806, 86.7649], dtype=torch.float64),\n",
       "indices=tensor([55, 98]))"
      ]
     },
     "execution_count": 144,
     "metadata": {},
     "output_type": "execute_result"
    }
   ],
   "source": [
    "torch.max(data_2, dim=0)"
   ]
  },
  {
   "cell_type": "markdown",
   "metadata": {},
   "source": [
    "# Define constrained ARHMM and fit"
   ]
  },
  {
   "cell_type": "code",
   "execution_count": 145,
   "metadata": {
    "collapsed": true
   },
   "outputs": [],
   "source": [
    "bounds_2 = np.array([[-50, 60], [-60, 50]])"
   ]
  },
  {
   "cell_type": "code",
   "execution_count": 146,
   "metadata": {
    "collapsed": true
   },
   "outputs": [],
   "source": [
    "tran_2 = ConstrainedLinearTransformation(K=K, d_in=D, d_out=D, bounds=bounds_2)\n",
    "observation_2 = ARGaussianObservation(K=K, D=D, M=0, transformation=tran_2)\n",
    "model_2 = HMM(K=K, D=D, M=0, observation=observation_2)"
   ]
  },
  {
   "cell_type": "code",
   "execution_count": 147,
   "metadata": {
    "collapsed": false
   },
   "outputs": [
    {
     "data": {
      "application/vnd.jupyter.widget-view+json": {
       "model_id": "95d65807f32d45eb9c9ed338cef701fd",
       "version_major": 2,
       "version_minor": 0
      },
      "text/plain": [
       "HBox(children=(IntProgress(value=0, max=5000), HTML(value='')))"
      ]
     },
     "metadata": {},
     "output_type": "display_data"
    }
   ],
   "source": [
    "num_iters = 5000\n",
    "\n",
    "pbar = tqdm(total=num_iters, file=sys.stdout)\n",
    "\n",
    "optimizer_2 = torch.optim.Adam(model_2.params, lr=0.001)\n",
    "\n",
    "losses_2 = []\n",
    "for i in np.arange(num_iters):\n",
    "\n",
    "    optimizer_2.zero_grad()\n",
    "\n",
    "    loss_2 = model_2.loss(data_2)    \n",
    "    loss_2.backward(retain_graph=True)\n",
    "    optimizer_2.step()\n",
    "    \n",
    "    loss_2 = loss_2.detach().numpy()\n",
    "    losses_2.append(loss_2)\n",
    "    \n",
    "    if i % 10 == 0:\n",
    "        pbar.set_description('iter {} loss {:.2f}'.format(i, loss_2))\n",
    "        pbar.update(10)"
   ]
  },
  {
   "cell_type": "code",
   "execution_count": 148,
   "metadata": {
    "collapsed": false
   },
   "outputs": [
    {
     "data": {
      "image/png": "[encoded data removed]",
      "text/plain": [
       "<Figure size 432x288 with 1 Axes>"
      ]
     },
     "metadata": {
      "needs_background": "light"
     },
     "output_type": "display_data"
    }
   ],
   "source": [
    "true_loss_2 = true_model_2.loss(data_2)\n",
    "plt.plot(losses_2, label='fitted model')\n",
    "plt.plot(np.arange(num_iters), [true_loss_2]*num_iters, label='true model')\n",
    "plt.legend()\n",
    "plt.show()"
   ]
  },
  {
   "cell_type": "code",
   "execution_count": 149,
   "metadata": {
    "collapsed": true
   },
   "outputs": [],
   "source": [
    "infer_z_2 = model_2.most_likely_states(data_2)\n",
    "\n",
    "perm_2 = find_permutation(z_2.numpy(), infer_z_2, K1=K, K2=K)\n",
    "\n",
    "model_2.permute(perm_2)\n",
    "hmm_z_2 = model_2.most_likely_states(data_2)"
   ]
  },
  {
   "cell_type": "code",
   "execution_count": 150,
   "metadata": {
    "collapsed": false
   },
   "outputs": [
    {
     "data": {
      "image/png": "[encoded data removed]",
      "text/plain": [
       "<Figure size 576x288 with 4 Axes>"
      ]
     },
     "metadata": {
      "needs_background": "light"
     },
     "output_type": "display_data"
    }
   ],
   "source": [
    "# Plot the true and inferred discrete states\n",
    "slc = slice(0, T)\n",
    "\n",
    "plt.figure(figsize=(8, 4))\n",
    "plt.subplot(211)\n",
    "plt.imshow(z_2[None, slc], aspect=\"auto\")\n",
    "plt.ylabel(\"$z_{\\\\mathrm{true}}$\")\n",
    "plt.yticks([])\n",
    "plt.colorbar()\n",
    "\n",
    "plt.subplot(212)\n",
    "plt.imshow(hmm_z_2[None,slc], aspect=\"auto\")\n",
    "plt.ylabel(\"$z_{\\\\mathrm{inferred}}$\")\n",
    "plt.yticks([])\n",
    "plt.xlabel(\"time\")\n",
    "plt.colorbar()\n",
    "\n",
    "plt.tight_layout()"
   ]
  },
  {
   "cell_type": "markdown",
   "metadata": {},
   "source": [
    "# check prediction"
   ]
  },
  {
   "cell_type": "code",
   "execution_count": 151,
   "metadata": {
    "collapsed": true
   },
   "outputs": [],
   "source": [
    "x_predict_cond_z_2 = k_step_prediction(model_2, z_2, data_2)"
   ]
  },
  {
   "cell_type": "code",
   "execution_count": 152,
   "metadata": {
    "collapsed": true
   },
   "outputs": [],
   "source": [
    "x_predict_cond_most_likely_z_2 = k_step_prediction(model_2, hmm_z_2, data_2)"
   ]
  },
  {
   "cell_type": "code",
   "execution_count": 153,
   "metadata": {
    "collapsed": false
   },
   "outputs": [
    {
     "data": {
      "text/plain": [
       "<matplotlib.legend.Legend at 0x123264588>"
      ]
     },
     "execution_count": 153,
     "metadata": {},
     "output_type": "execute_result"
    },
    {
     "data": {
      "image/png": "[encoded data removed]",
      "text/plain": [
       "<Figure size 432x288 with 1 Axes>"
      ]
     },
     "metadata": {
      "needs_background": "light"
     },
     "output_type": "display_data"
    }
   ],
   "source": [
    "#plt.plot(x_predict_cond_z_2[:,0], label='predict')\n",
    "plt.plot(x_predict_cond_most_likely_z_2[:,0], label='predict2')\n",
    "plt.plot(data_2[:,0].numpy(), label='true')\n",
    "plt.legend()"
   ]
  },
  {
   "cell_type": "code",
   "execution_count": 154,
   "metadata": {
    "collapsed": false
   },
   "outputs": [
    {
     "data": {
      "text/plain": [
       "array([[-50,  60],\n",
       "       [-60,  50]])"
      ]
     },
     "execution_count": 154,
     "metadata": {},
     "output_type": "execute_result"
    }
   ],
   "source": [
    "bounds_2"
   ]
  },
  {
   "cell_type": "code",
   "execution_count": 155,
   "metadata": {
    "collapsed": false
   },
   "outputs": [
    {
     "data": {
      "text/plain": [
       "array([-119.16607838, -127.5342831 ])"
      ]
     },
     "execution_count": 155,
     "metadata": {},
     "output_type": "execute_result"
    }
   ],
   "source": [
    "np.min(x_predict_cond_most_likely_z_2, axis=0)"
   ]
  },
  {
   "cell_type": "code",
   "execution_count": 156,
   "metadata": {
    "collapsed": false
   },
   "outputs": [
    {
     "data": {
      "text/plain": [
       "tensor([[33.1904, 33.6211],\n",
       "        [16.4233, 17.1283],\n",
       "        [ 5.8567,  4.6138]], dtype=torch.float64, grad_fn=<ExpBackward>)"
      ]
     },
     "execution_count": 156,
     "metadata": {},
     "output_type": "execute_result"
    }
   ],
   "source": [
    "torch.exp(model_2.observation.log_sigmas)"
   ]
  },
  {
   "cell_type": "code",
   "execution_count": 158,
   "metadata": {
    "collapsed": false
   },
   "outputs": [],
   "source": [
    "sample_z_2, sample_data_2 = model_2.sample(T)"
   ]
  },
  {
   "cell_type": "code",
   "execution_count": 160,
   "metadata": {
    "collapsed": false
   },
   "outputs": [
    {
     "data": {
      "text/plain": [
       "array([-131.17284873, -135.63535214])"
      ]
     },
     "execution_count": 160,
     "metadata": {},
     "output_type": "execute_result"
    }
   ],
   "source": [
    "np.min(sample_data_2, axis=0)"
   ]
  },
  {
   "cell_type": "code",
   "execution_count": 162,
   "metadata": {
    "collapsed": false
   },
   "outputs": [
    {
     "data": {
      "text/plain": [
       "tensor([[33.1904, 33.6211],\n",
       "        [16.4233, 17.1283],\n",
       "        [ 5.8567,  4.6138]], dtype=torch.float64, grad_fn=<ExpBackward>)"
      ]
     },
     "execution_count": 162,
     "metadata": {},
     "output_type": "execute_result"
    }
   ],
   "source": [
    "torch.exp(observation_2.log_sigmas)"
   ]
  },
  {
   "cell_type": "code",
   "execution_count": 164,
   "metadata": {
    "collapsed": false
   },
   "outputs": [],
   "source": [
    "out = observation_2._compute_mus_for(data_2)"
   ]
  },
  {
   "cell_type": "code",
   "execution_count": 165,
   "metadata": {
    "collapsed": false
   },
   "outputs": [
    {
     "data": {
      "text/plain": [
       "torch.Size([100, 3, 2])"
      ]
     },
     "execution_count": 165,
     "metadata": {},
     "output_type": "execute_result"
    }
   ],
   "source": [
    "out.shape"
   ]
  },
  {
   "cell_type": "code",
   "execution_count": 167,
   "metadata": {
    "collapsed": false
   },
   "outputs": [
    {
     "data": {
      "text/plain": [
       "tensor([-50., -60.], dtype=torch.float64, grad_fn=<MinBackward0>)"
      ]
     },
     "execution_count": 167,
     "metadata": {},
     "output_type": "execute_result"
    }
   ],
   "source": [
    "torch.min(torch.min(out, dim=0)[0], dim=0)[0]"
   ]
  },
  {
   "cell_type": "code",
   "execution_count": 168,
   "metadata": {
    "collapsed": false
   },
   "outputs": [
    {
     "data": {
      "text/plain": [
       "tensor([60., 50.], dtype=torch.float64, grad_fn=<MaxBackward0>)"
      ]
     },
     "execution_count": 168,
     "metadata": {},
     "output_type": "execute_result"
    }
   ],
   "source": [
    "torch.max(torch.max(out, dim=0)[0], dim=0)[0]"
   ]
  },
  {
   "cell_type": "code",
   "execution_count": 171,
   "metadata": {
    "collapsed": false
   },
   "outputs": [
    {
     "data": {
      "text/plain": [
       "array([[-50,  60],\n",
       "       [-60,  50]])"
      ]
     },
     "execution_count": 171,
     "metadata": {},
     "output_type": "execute_result"
    }
   ],
   "source": [
    "bounds_2"
   ]
  },
  {
   "cell_type": "markdown",
   "metadata": {},
   "source": [
    "Reflection: only put constraints (bounds) on the mean.\n",
    "\n",
    "Next step: put constraints on the normal variable (mean + sigma * epsilon)"
   ]
  },
  {
   "cell_type": "markdown",
   "metadata": {},
   "source": [
    "# test a simple normalizing flow"
   ]
  },
  {
   "cell_type": "code",
   "execution_count": 304,
   "metadata": {
    "collapsed": true
   },
   "outputs": [],
   "source": [
    "def sigmoid(x):\n",
    "    return 1 / (1 + np.exp(-x))\n",
    "\n",
    "def dsigmoid(x):\n",
    "    return sigmoid(x) * (1 - sigmoid(x))"
   ]
  },
  {
   "cell_type": "code",
   "execution_count": 396,
   "metadata": {
    "collapsed": true
   },
   "outputs": [],
   "source": [
    "def scale_fn(inputs, bounds, centers=0):\n",
    "    \"\"\"\n",
    "    inputs: (batch_size, D) or (D, )\n",
    "    bounds: (D, 2)\n",
    "    centers: (D, )\n",
    "    \"\"\"\n",
    "    out = sigmoid(inputs-centers)\n",
    "    \n",
    "    out = out * (bounds[...,1] - bounds[...,0]) + bounds[...,0]\n",
    "    return out"
   ]
  },
  {
   "cell_type": "code",
   "execution_count": 397,
   "metadata": {
    "collapsed": true
   },
   "outputs": [],
   "source": [
    "def dscale_fn(inputs, bounds, centers=0):\n",
    "    \"\"\"\n",
    "    inputs: (batch_size, D) or (D, )\n",
    "    bounds: (D, 2)\n",
    "    centers: (D, )\n",
    "    return: same shape of inputs\n",
    "    \"\"\"\n",
    "    # (D,) * (batch_size, D)\n",
    "    return (bounds[...,1]-bounds[...,0]) * dsigmoid(inputs-centers)"
   ]
  },
  {
   "cell_type": "code",
   "execution_count": 398,
   "metadata": {
    "collapsed": true
   },
   "outputs": [],
   "source": [
    "def scale_pdf(rvs, bounds, centers=0):\n",
    "    return norm.pdf(rvs) / dscale_fn(rvs, bounds, centers)"
   ]
  },
  {
   "cell_type": "code",
   "execution_count": 399,
   "metadata": {
    "collapsed": true
   },
   "outputs": [],
   "source": [
    "from scipy.stats import norm"
   ]
  },
  {
   "cell_type": "code",
   "execution_count": 400,
   "metadata": {
    "collapsed": true
   },
   "outputs": [],
   "source": [
    "rvs = np.linspace(-2,2,100)[:,None]"
   ]
  },
  {
   "cell_type": "code",
   "execution_count": 401,
   "metadata": {
    "collapsed": true
   },
   "outputs": [],
   "source": [
    "vals = norm.pdf(rvs)"
   ]
  },
  {
   "cell_type": "code",
   "execution_count": 410,
   "metadata": {
    "collapsed": false
   },
   "outputs": [
    {
     "data": {
      "text/plain": [
       "(100, 1)"
      ]
     },
     "execution_count": 410,
     "metadata": {},
     "output_type": "execute_result"
    }
   ],
   "source": [
    "rvs.shape"
   ]
  },
  {
   "cell_type": "code",
   "execution_count": 402,
   "metadata": {
    "collapsed": false
   },
   "outputs": [],
   "source": [
    "bounds = np.array([[1, 3]])\n",
    "centers = np.array([2])"
   ]
  },
  {
   "cell_type": "code",
   "execution_count": 409,
   "metadata": {
    "collapsed": false
   },
   "outputs": [
    {
     "data": {
      "text/plain": [
       "array([3])"
      ]
     },
     "execution_count": 409,
     "metadata": {},
     "output_type": "execute_result"
    }
   ],
   "source": [
    "bounds[...,1]"
   ]
  },
  {
   "cell_type": "code",
   "execution_count": 403,
   "metadata": {
    "collapsed": true
   },
   "outputs": [],
   "source": [
    "rvs_tran = scale_fn(rvs, bounds=bounds, centers=centers)"
   ]
  },
  {
   "cell_type": "code",
   "execution_count": 417,
   "metadata": {
    "collapsed": false
   },
   "outputs": [],
   "source": [
    "prob_rvs_tran = scale_pdf(rvs, bounds, centers)"
   ]
  },
  {
   "cell_type": "code",
   "execution_count": 421,
   "metadata": {
    "collapsed": false
   },
   "outputs": [
    {
     "data": {
      "text/plain": [
       "[<matplotlib.lines.Line2D at 0x1258714e0>]"
      ]
     },
     "execution_count": 421,
     "metadata": {},
     "output_type": "execute_result"
    },
    {
     "data": {
      "image/png": "[encoded data removed]",
      "text/plain": [
       "<Figure size 432x288 with 1 Axes>"
      ]
     },
     "metadata": {
      "needs_background": "light"
     },
     "output_type": "display_data"
    }
   ],
   "source": [
    "plt.plot(rvs_tran, np.log(prob_rvs_tran))"
   ]
  },
  {
   "cell_type": "code",
   "execution_count": 404,
   "metadata": {
    "collapsed": false
   },
   "outputs": [
    {
     "data": {
      "image/png": "[encoded data removed]",
      "text/plain": [
       "<Figure size 432x288 with 1 Axes>"
      ]
     },
     "metadata": {
      "needs_background": "light"
     },
     "output_type": "display_data"
    }
   ],
   "source": [
    "plt.plot(rvs, vals, label='p(z)')\n",
    "plt.plot(rvs_tran, scale_pdf(rvs, bounds, centers), label='p(transformed z)')\n",
    "plt.legend()\n",
    "plt.title(\"probability\");"
   ]
  },
  {
   "cell_type": "code",
   "execution_count": 405,
   "metadata": {
    "collapsed": false
   },
   "outputs": [
    {
     "data": {
      "image/png": "[encoded data removed]",
      "text/plain": [
       "<Figure size 432x288 with 1 Axes>"
      ]
     },
     "metadata": {
      "needs_background": "light"
     },
     "output_type": "display_data"
    }
   ],
   "source": [
    "plt.plot(rvs_tran, label='transformed z')\n",
    "plt.plot(rvs, label='z')\n",
    "plt.legend()\n",
    "plt.title(\"distribution\");"
   ]
  },
  {
   "cell_type": "code",
   "execution_count": 406,
   "metadata": {
    "collapsed": false
   },
   "outputs": [
    {
     "data": {
      "image/png": "[encoded data removed]",
      "text/plain": [
       "<Figure size 432x288 with 1 Axes>"
      ]
     },
     "metadata": {
      "needs_background": "light"
     },
     "output_type": "display_data"
    }
   ],
   "source": [
    "plt.plot(rvs, rvs_tran)\n",
    "plt.xlabel('z')\n",
    "plt.ylabel('transformed z');"
   ]
  },
  {
   "cell_type": "code",
   "execution_count": null,
   "metadata": {
    "collapsed": true
   },
   "outputs": [],
   "source": []
  }
 ],
 "metadata": {
  "kernelspec": {
   "display_name": "ptc",
   "language": "python",
   "name": "ptc"
  },
  "language_info": {
   "codemirror_mode": {
    "name": "ipython",
    "version": 3
   },
   "file_extension": ".py",
   "mimetype": "text/x-python",
   "name": "python",
   "nbconvert_exporter": "python",
   "pygments_lexer": "ipython3",
   "version": "3.7.3"
  }
 },
 "nbformat": 4,
 "nbformat_minor": 2
}
