{
 "cells": [
  {
   "cell_type": "code",
   "execution_count": 1,
   "metadata": {
    "collapsed": true
   },
   "outputs": [],
   "source": [
    "import sys\n",
    "sys.path.append(\"/Users/leah/Columbia/courses/19summer/SocialBehavior/SocialBehaviorptc\")"
   ]
  },
  {
   "cell_type": "markdown",
   "metadata": {},
   "source": [
    "# this notebook is for plotting realdata_quiver with correct scale"
   ]
  },
  {
   "cell_type": "code",
   "execution_count": 2,
   "metadata": {
    "collapsed": false
   },
   "outputs": [],
   "source": [
    "import joblib\n",
    "import numpy as np\n",
    "import torch\n",
    "from glob import glob\n",
    "import json\n",
    "import os.path\n",
    "\n",
    "from project_ssms.grid_utils import plot_realdata_quiver\n",
    "from project_ssms.utils import downsample\n",
    "\n",
    "import matplotlib.pyplot as plt\n",
    "%matplotlib inline"
   ]
  },
  {
   "cell_type": "code",
   "execution_count": 3,
   "metadata": {
    "collapsed": true
   },
   "outputs": [],
   "source": [
    "data_dir = '/Users/leah/Columbia/courses/19summer/SocialBehavior/SocialBehaviorptc/data/trajs_all'\n",
    "trajs = joblib.load(data_dir)"
   ]
  },
  {
   "cell_type": "code",
   "execution_count": 4,
   "metadata": {
    "collapsed": true
   },
   "outputs": [],
   "source": [
    "def correct_checkpoint_quiver(checkpoint_dir, data, sample_T, K):\n",
    "    number_dir = checkpoint_dir + \"/numbers\"\n",
    "    model_dir = checkpoint_dir + \"/model\"\n",
    "    \n",
    "    if not os.path.exists(number_dir):\n",
    "        print(\"not exist \", number_dir)\n",
    "        return\n",
    "    if not os.path.exists(model_dir):\n",
    "        print(\"not exist \", model_dir)\n",
    "        return\n",
    "    \n",
    "    \n",
    "    numbers = joblib.load(number_dir)\n",
    "    model = joblib.load(model_dir)\n",
    "    \n",
    "    z = numbers['z']\n",
    "    sample_x = numbers['sample_x']\n",
    "    sample_z = numbers['sample_z']\n",
    "    sample_x_center = numbers['sample_x_center']\n",
    "    sample_z_center = numbers['sample_z_center']\n",
    "    x_grids = model.observation.transformation.x_grids\n",
    "    y_grids = model.observation.transformation.y_grids\n",
    "    \n",
    "    if not os.path.exists(checkpoint_dir + \"/samples\"):\n",
    "        os.makedirs(checkpoint_dir + \"/samples\")\n",
    "        \n",
    "    plot_realdata_quiver(data, z, K, x_grids, y_grids, title=\"ground truth\")\n",
    "    plt.savefig(checkpoint_dir + \"/samples/quiver_ground_truth.jpg\", dpi=200)\n",
    "    plt.close()\n",
    "\n",
    "    plot_realdata_quiver(sample_x, sample_z, K, x_grids, y_grids, title=\"sample\")\n",
    "    plt.savefig(checkpoint_dir + \"/samples/quiver_sample_x_{}.jpg\".format(sample_T), dpi=200)\n",
    "    plt.close()\n",
    "\n",
    "    plot_realdata_quiver(sample_x_center, sample_z_center, K, x_grids, y_grids, title=\"sample (starting from center)\")\n",
    "    plt.savefig(checkpoint_dir + \"/samples/quiver_sample_x_center_{}.jpg\".format(sample_T), dpi=200)\n",
    "    plt.close()\n",
    "    \n",
    "    print(\"Finished plotting for \", checkpoint_dir)\n",
    "    "
   ]
  },
  {
   "cell_type": "code",
   "execution_count": 5,
   "metadata": {
    "collapsed": false
   },
   "outputs": [],
   "source": [
    "def correct_exp_quivers(exp_dir):\n",
    "    with open(exp_dir + \"/exp_params.json\") as f:\n",
    "        ff = json.load(f)\n",
    "    \n",
    "    K = ff['K']\n",
    "    video_clip_start = ff['video_clip_start']\n",
    "    video_clip_end = ff['video_clip_end']\n",
    "    downsample_n = ff['downsample_n']\n",
    "    sample_T = ff['sample_T']\n",
    "    \n",
    "    start = int(36000*video_clip_start)\n",
    "    end = int(36000*video_clip_end)\n",
    "    traj = trajs[start:end]\n",
    "    traj = downsample(traj, downsample_n)\n",
    "    data = torch.tensor(traj, dtype=torch.float64)\n",
    "    \n",
    "    for checkpoint_dir in glob(exp_dir + \"/checkpoint*\"):\n",
    "        correct_checkpoint_quiver(checkpoint_dir, data, sample_T, K)\n",
    "        \n",
    "    print(\"finishing plotting for \", exp_dir, \"************\")\n"
   ]
  },
  {
   "cell_type": "code",
   "execution_count": 6,
   "metadata": {
    "collapsed": true
   },
   "outputs": [],
   "source": [
    "def correct_a_folder_quivers(folder_dir):\n",
    "    for exp_dir in glob(folder_dir +\"/*\"):\n",
    "        correct_exp_quivers(exp_dir)\n",
    "        "
   ]
  },
  {
   "cell_type": "code",
   "execution_count": 20,
   "metadata": {
    "collapsed": true
   },
   "outputs": [],
   "source": [
    "#folder_dir = \"/Users/leah/Columbia/courses/19summer/SocialBehavior/rslts/weightedgrid/1008_test\"\n",
    "#folder_dir = \"/Users/leah/Columbia/courses/19summer/SocialBehavior/rslts/weightedgrid/1009_testbeta\"\n",
    "#folder_dir = \"/Users/leah/Columbia/courses/19summer/SocialBehavior/rslts/lineargrid/1006_chooseK\"\n",
    "#folder_dir = \"/Users/leah/Columbia/courses/19summer/SocialBehavior/rslts/lineargrid/1006_chooseK_trainmore\"\n",
    "#folder_dir = \"/Users/leah/Columbia/courses/19summer/SocialBehavior/rslts/lineargrid/1006_lineargrid\"\n",
    "folder_dir = \"/Users/leah/Columbia/courses/19summer/SocialBehavior/rslts/lineargrid/1006_videoclips\""
   ]
  },
  {
   "cell_type": "code",
   "execution_count": 21,
   "metadata": {
    "collapsed": false
   },
   "outputs": [
    {
     "name": "stdout",
     "output_type": "stream",
     "text": [
      "Finished plotting for  /Users/leah/Columbia/courses/19summer/SocialBehavior/rslts/lineargrid/1006_videoclips/v01_K14_1by1_D191006_215312/checkpoint_0\n",
      "Finished plotting for  /Users/leah/Columbia/courses/19summer/SocialBehavior/rslts/lineargrid/1006_videoclips/v01_K14_1by1_D191006_215312/checkpoint_1\n",
      "Finished plotting for  /Users/leah/Columbia/courses/19summer/SocialBehavior/rslts/lineargrid/1006_videoclips/v01_K14_1by1_D191006_215312/checkpoint_3\n",
      "Finished plotting for  /Users/leah/Columbia/courses/19summer/SocialBehavior/rslts/lineargrid/1006_videoclips/v01_K14_1by1_D191006_215312/checkpoint_2\n",
      "finishing plotting for  /Users/leah/Columbia/courses/19summer/SocialBehavior/rslts/lineargrid/1006_videoclips/v01_K14_1by1_D191006_215312 ************\n",
      "Finished plotting for  /Users/leah/Columbia/courses/19summer/SocialBehavior/rslts/lineargrid/1006_videoclips/v1,_K16_1by1_D191006_225510/checkpoint_0\n",
      "Finished plotting for  /Users/leah/Columbia/courses/19summer/SocialBehavior/rslts/lineargrid/1006_videoclips/v1,_K16_1by1_D191006_225510/checkpoint_1\n",
      "Finished plotting for  /Users/leah/Columbia/courses/19summer/SocialBehavior/rslts/lineargrid/1006_videoclips/v1,_K16_1by1_D191006_225510/checkpoint_2\n",
      "finishing plotting for  /Users/leah/Columbia/courses/19summer/SocialBehavior/rslts/lineargrid/1006_videoclips/v1,_K16_1by1_D191006_225510 ************\n",
      "Finished plotting for  /Users/leah/Columbia/courses/19summer/SocialBehavior/rslts/lineargrid/1006_videoclips/v01_K6_1by1_D191006_213913/checkpoint_7\n",
      "Finished plotting for  /Users/leah/Columbia/courses/19summer/SocialBehavior/rslts/lineargrid/1006_videoclips/v01_K6_1by1_D191006_213913/checkpoint_0\n",
      "Finished plotting for  /Users/leah/Columbia/courses/19summer/SocialBehavior/rslts/lineargrid/1006_videoclips/v01_K6_1by1_D191006_213913/checkpoint_1\n",
      "Finished plotting for  /Users/leah/Columbia/courses/19summer/SocialBehavior/rslts/lineargrid/1006_videoclips/v01_K6_1by1_D191006_213913/checkpoint_6\n",
      "Finished plotting for  /Users/leah/Columbia/courses/19summer/SocialBehavior/rslts/lineargrid/1006_videoclips/v01_K6_1by1_D191006_213913/checkpoint_3\n",
      "Finished plotting for  /Users/leah/Columbia/courses/19summer/SocialBehavior/rslts/lineargrid/1006_videoclips/v01_K6_1by1_D191006_213913/checkpoint_4\n",
      "Finished plotting for  /Users/leah/Columbia/courses/19summer/SocialBehavior/rslts/lineargrid/1006_videoclips/v01_K6_1by1_D191006_213913/checkpoint_5\n",
      "Finished plotting for  /Users/leah/Columbia/courses/19summer/SocialBehavior/rslts/lineargrid/1006_videoclips/v01_K6_1by1_D191006_213913/checkpoint_2\n",
      "finishing plotting for  /Users/leah/Columbia/courses/19summer/SocialBehavior/rslts/lineargrid/1006_videoclips/v01_K6_1by1_D191006_213913 ************\n",
      "Finished plotting for  /Users/leah/Columbia/courses/19summer/SocialBehavior/rslts/lineargrid/1006_videoclips/v2,_K10_1by1_D191006_215140/checkpoint_0\n",
      "not exist  /Users/leah/Columbia/courses/19summer/SocialBehavior/rslts/lineargrid/1006_videoclips/v2,_K10_1by1_D191006_215140/checkpoint_1/numbers\n",
      "finishing plotting for  /Users/leah/Columbia/courses/19summer/SocialBehavior/rslts/lineargrid/1006_videoclips/v2,_K10_1by1_D191006_215140 ************\n",
      "Finished plotting for  /Users/leah/Columbia/courses/19summer/SocialBehavior/rslts/lineargrid/1006_videoclips/v1,_K6_1by1_D191006_214153/checkpoint_0\n",
      "not exist  /Users/leah/Columbia/courses/19summer/SocialBehavior/rslts/lineargrid/1006_videoclips/v1,_K6_1by1_D191006_214153/checkpoint_1/numbers\n",
      "finishing plotting for  /Users/leah/Columbia/courses/19summer/SocialBehavior/rslts/lineargrid/1006_videoclips/v1,_K6_1by1_D191006_214153 ************\n",
      "Finished plotting for  /Users/leah/Columbia/courses/19summer/SocialBehavior/rslts/lineargrid/1006_videoclips/v2,_K14_1by1_D191006_220042/checkpoint_0\n",
      "not exist  /Users/leah/Columbia/courses/19summer/SocialBehavior/rslts/lineargrid/1006_videoclips/v2,_K14_1by1_D191006_220042/checkpoint_1/numbers\n",
      "finishing plotting for  /Users/leah/Columbia/courses/19summer/SocialBehavior/rslts/lineargrid/1006_videoclips/v2,_K14_1by1_D191006_220042 ************\n",
      "Finished plotting for  /Users/leah/Columbia/courses/19summer/SocialBehavior/rslts/lineargrid/1006_videoclips/v1,_K14_1by1_D191006_215755/checkpoint_0\n",
      "Finished plotting for  /Users/leah/Columbia/courses/19summer/SocialBehavior/rslts/lineargrid/1006_videoclips/v1,_K14_1by1_D191006_215755/checkpoint_1\n",
      "not exist  /Users/leah/Columbia/courses/19summer/SocialBehavior/rslts/lineargrid/1006_videoclips/v1,_K14_1by1_D191006_215755/checkpoint_3/numbers\n",
      "Finished plotting for  /Users/leah/Columbia/courses/19summer/SocialBehavior/rslts/lineargrid/1006_videoclips/v1,_K14_1by1_D191006_215755/checkpoint_2\n",
      "finishing plotting for  /Users/leah/Columbia/courses/19summer/SocialBehavior/rslts/lineargrid/1006_videoclips/v1,_K14_1by1_D191006_215755 ************\n",
      "Finished plotting for  /Users/leah/Columbia/courses/19summer/SocialBehavior/rslts/lineargrid/1006_videoclips/v01_K10_1by1_D191006_214355/checkpoint_0\n",
      "Finished plotting for  /Users/leah/Columbia/courses/19summer/SocialBehavior/rslts/lineargrid/1006_videoclips/v01_K10_1by1_D191006_214355/checkpoint_1\n",
      "Finished plotting for  /Users/leah/Columbia/courses/19summer/SocialBehavior/rslts/lineargrid/1006_videoclips/v01_K10_1by1_D191006_214355/checkpoint_6\n",
      "Finished plotting for  /Users/leah/Columbia/courses/19summer/SocialBehavior/rslts/lineargrid/1006_videoclips/v01_K10_1by1_D191006_214355/checkpoint_3\n",
      "Finished plotting for  /Users/leah/Columbia/courses/19summer/SocialBehavior/rslts/lineargrid/1006_videoclips/v01_K10_1by1_D191006_214355/checkpoint_4\n",
      "Finished plotting for  /Users/leah/Columbia/courses/19summer/SocialBehavior/rslts/lineargrid/1006_videoclips/v01_K10_1by1_D191006_214355/checkpoint_5\n",
      "Finished plotting for  /Users/leah/Columbia/courses/19summer/SocialBehavior/rslts/lineargrid/1006_videoclips/v01_K10_1by1_D191006_214355/checkpoint_2\n",
      "finishing plotting for  /Users/leah/Columbia/courses/19summer/SocialBehavior/rslts/lineargrid/1006_videoclips/v01_K10_1by1_D191006_214355 ************\n",
      "Finished plotting for  /Users/leah/Columbia/courses/19summer/SocialBehavior/rslts/lineargrid/1006_videoclips/v1,_K10_1by1_D191006_214918/checkpoint_0\n",
      "Finished plotting for  /Users/leah/Columbia/courses/19summer/SocialBehavior/rslts/lineargrid/1006_videoclips/v1,_K10_1by1_D191006_214918/checkpoint_1\n",
      "not exist  /Users/leah/Columbia/courses/19summer/SocialBehavior/rslts/lineargrid/1006_videoclips/v1,_K10_1by1_D191006_214918/checkpoint_3/numbers\n",
      "Finished plotting for  /Users/leah/Columbia/courses/19summer/SocialBehavior/rslts/lineargrid/1006_videoclips/v1,_K10_1by1_D191006_214918/checkpoint_2\n",
      "finishing plotting for  /Users/leah/Columbia/courses/19summer/SocialBehavior/rslts/lineargrid/1006_videoclips/v1,_K10_1by1_D191006_214918 ************\n",
      "Finished plotting for  /Users/leah/Columbia/courses/19summer/SocialBehavior/rslts/lineargrid/1006_videoclips/v2,_K6_1by1_D191006_214323/checkpoint_0\n",
      "Finished plotting for  /Users/leah/Columbia/courses/19summer/SocialBehavior/rslts/lineargrid/1006_videoclips/v2,_K6_1by1_D191006_214323/checkpoint_1\n",
      "not exist  /Users/leah/Columbia/courses/19summer/SocialBehavior/rslts/lineargrid/1006_videoclips/v2,_K6_1by1_D191006_214323/checkpoint_3/numbers\n",
      "Finished plotting for  /Users/leah/Columbia/courses/19summer/SocialBehavior/rslts/lineargrid/1006_videoclips/v2,_K6_1by1_D191006_214323/checkpoint_2\n",
      "finishing plotting for  /Users/leah/Columbia/courses/19summer/SocialBehavior/rslts/lineargrid/1006_videoclips/v2,_K6_1by1_D191006_214323 ************\n",
      "Finished plotting for  /Users/leah/Columbia/courses/19summer/SocialBehavior/rslts/lineargrid/1006_videoclips/v01_K16_1by1_D191006_223322/checkpoint_0\n",
      "Finished plotting for  /Users/leah/Columbia/courses/19summer/SocialBehavior/rslts/lineargrid/1006_videoclips/v01_K16_1by1_D191006_223322/checkpoint_1\n",
      "Finished plotting for  /Users/leah/Columbia/courses/19summer/SocialBehavior/rslts/lineargrid/1006_videoclips/v01_K16_1by1_D191006_223322/checkpoint_2\n",
      "finishing plotting for  /Users/leah/Columbia/courses/19summer/SocialBehavior/rslts/lineargrid/1006_videoclips/v01_K16_1by1_D191006_223322 ************\n",
      "Finished plotting for  /Users/leah/Columbia/courses/19summer/SocialBehavior/rslts/lineargrid/1006_videoclips/v2,_K16_1by1_D191006_225620/checkpoint_0\n",
      "not exist  /Users/leah/Columbia/courses/19summer/SocialBehavior/rslts/lineargrid/1006_videoclips/v2,_K16_1by1_D191006_225620/checkpoint_1/numbers\n",
      "finishing plotting for  /Users/leah/Columbia/courses/19summer/SocialBehavior/rslts/lineargrid/1006_videoclips/v2,_K16_1by1_D191006_225620 ************\n"
     ]
    }
   ],
   "source": [
    "correct_a_folder_quivers(folder_dir)"
   ]
  },
  {
   "cell_type": "code",
   "execution_count": null,
   "metadata": {
    "collapsed": true
   },
   "outputs": [],
   "source": []
  }
 ],
 "metadata": {
  "kernelspec": {
   "display_name": "ptc",
   "language": "python",
   "name": "ptc"
  },
  "language_info": {
   "codemirror_mode": {
    "name": "ipython",
    "version": 3
   },
   "file_extension": ".py",
   "mimetype": "text/x-python",
   "name": "python",
   "nbconvert_exporter": "python",
   "pygments_lexer": "ipython3",
   "version": "3.7.3"
  }
 },
 "nbformat": 4,
 "nbformat_minor": 2
}
