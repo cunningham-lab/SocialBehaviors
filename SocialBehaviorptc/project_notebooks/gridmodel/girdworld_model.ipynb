{
 "cells": [
  {
   "cell_type": "code",
   "execution_count": null,
   "metadata": {},
   "outputs": [],
   "source": [
    "import sys\n",
    "sys.path.append('/Users/leah/Columbia/courses/19summer/SocialBehavior/SocialBehaviorptc')"
   ]
  },
  {
   "cell_type": "code",
   "execution_count": null,
   "metadata": {},
   "outputs": [],
   "source": [
    "from ssm_ptc.models.hmm import HMM\n",
    "from ssm_ptc.distributions.truncatednormal import TruncatedNormal\n",
    "from ssm_ptc.utils import find_permutation, random_rotation, k_step_prediction\n",
    "\n",
    "from project_ssms.ar_truncated_normal_observation import ARTruncatedNormalObservation\n",
    "from project_ssms.coupled_transformations.grid_transformation import GridTransformation\n",
    "from project_ssms.feature_funcs import feature_vec_func\n",
    "from project_ssms.momentum_utils import filter_traj_by_speed, get_momentum_in_batch\n",
    "from project_ssms.utils import k_step_prediction_for_grid_model\n",
    "from project_ssms.plot_utils import plot_z, plot_2_mice, plot_4_traces\n",
    "\n",
    "import torch\n",
    "import numpy as np\n",
    "import numpy.random as npr\n",
    "import matplotlib.pyplot as plt\n",
    "\n",
    "import seaborn as sns\n",
    "sns.set_style(\"white\")\n",
    "sns.set_context(\"talk\")\n",
    "\n",
    "#from tqdm import trange\n",
    "from tqdm import tqdm_notebook as tqdm\n",
    "\n",
    "import time\n",
    "\n",
    "import joblib\n",
    "\n",
    "from hips.plotting.colormaps import gradient_cmap, white_to_color_cmap\n",
    "color_names = [\n",
    "    \"windows blue\",\n",
    "    \"red\",\n",
    "    \"amber\",\n",
    "    \"faded green\",\n",
    "    \"dusty purple\",\n",
    "    \"orange\"\n",
    "    ]\n",
    "\n",
    "colors = sns.xkcd_palette(color_names)\n",
    "cmap = gradient_cmap(colors)"
   ]
  },
  {
   "cell_type": "markdown",
   "metadata": {},
   "source": [
    "# data"
   ]
  },
  {
   "cell_type": "code",
   "execution_count": null,
   "metadata": {},
   "outputs": [],
   "source": [
    "datasets_processed = joblib.load('/Users/leah/Columbia/courses/19summer/SocialBehavior/tracedata/all_data_3_1')  # a list of length 30, each is a social_dataset\n",
    "\n",
    "trajs = []\n",
    "for dataset in datasets_processed:\n",
    "    session_data = dataset.render_trajectories([3, 8])\n",
    "    traj = np.concatenate((session_data), axis=1)\n",
    "    trajs.append(traj)\n",
    "\n",
    "trajs_all = np.concatenate(trajs, axis=0)"
   ]
  },
  {
   "cell_type": "code",
   "execution_count": null,
   "metadata": {},
   "outputs": [],
   "source": [
    "trajs_all.shape"
   ]
  },
  {
   "cell_type": "code",
   "execution_count": null,
   "metadata": {},
   "outputs": [],
   "source": [
    "1080000/30"
   ]
  },
  {
   "cell_type": "code",
   "execution_count": null,
   "metadata": {},
   "outputs": [],
   "source": [
    "trajs = trajs_all[36000*0:36000*3]"
   ]
  },
  {
   "cell_type": "code",
   "execution_count": null,
   "metadata": {},
   "outputs": [],
   "source": [
    "np.min(trajs, axis=0)"
   ]
  },
  {
   "cell_type": "code",
   "execution_count": null,
   "metadata": {},
   "outputs": [],
   "source": [
    "np.max(trajs, axis=0)"
   ]
  },
  {
   "cell_type": "code",
   "execution_count": null,
   "metadata": {},
   "outputs": [],
   "source": [
    "arena_xmin = 0\n",
    "arena_xmax = 330\n",
    "arena_ymin = -10\n",
    "arena_ymax = 390"
   ]
  },
  {
   "cell_type": "code",
   "execution_count": null,
   "metadata": {},
   "outputs": [],
   "source": [
    "# make 3 by 3 grid world\n",
    "x_grid_gap = (arena_xmax - arena_xmin) / 3\n",
    "y_grid_gap = (arena_ymax - arena_ymin) / 3"
   ]
  },
  {
   "cell_type": "code",
   "execution_count": null,
   "metadata": {},
   "outputs": [],
   "source": [
    "x_grids = [arena_xmin + i * x_grid_gap for i in range(4)]\n",
    "y_grids = [arena_ymin + i * y_grid_gap for i in range(4)]"
   ]
  },
  {
   "cell_type": "code",
   "execution_count": null,
   "metadata": {},
   "outputs": [],
   "source": [
    "x_grids"
   ]
  },
  {
   "cell_type": "code",
   "execution_count": null,
   "metadata": {},
   "outputs": [],
   "source": [
    "y_grids"
   ]
  },
  {
   "cell_type": "code",
   "execution_count": null,
   "metadata": {},
   "outputs": [],
   "source": [
    "data_grids_a = []\n",
    "\n",
    "for i in range(3):\n",
    "    for j in range(3):\n",
    "        cond_x = (x_grids[i] < trajs[:,0]) & (trajs[:,0] <= x_grids[i+1])\n",
    "        cond_y = (y_grids[j] < trajs[:,1]) & (trajs[:,1] <= y_grids[j+1])\n",
    "        out = trajs[cond_x & cond_y]\n",
    "        data_grids_a.append(out)\n",
    "        \n",
    "data_grids_b = []\n",
    "\n",
    "for i in range(3):\n",
    "    for j in range(3):\n",
    "        cond_x = (x_grids[i] < trajs[:,2]) & (trajs[:,2] <= x_grids[i+1])\n",
    "        cond_y = (y_grids[j] < trajs[:,3]) & (trajs[:,3] <= y_grids[j+1])\n",
    "        out = trajs[cond_x & cond_y]\n",
    "        data_grids_b.append(out)"
   ]
  },
  {
   "cell_type": "code",
   "execution_count": null,
   "metadata": {},
   "outputs": [],
   "source": [
    "[data_grid.shape[0]/trajs.shape[0] for data_grid in data_grids_a]"
   ]
  },
  {
   "cell_type": "code",
   "execution_count": null,
   "metadata": {},
   "outputs": [],
   "source": [
    "[data_grid.shape[0]/trajs.shape[0] for data_grid in data_grids_b]"
   ]
  },
  {
   "cell_type": "code",
   "execution_count": null,
   "metadata": {},
   "outputs": [],
   "source": [
    "[data_grid.shape[0] for data_grid in data_grids_a]"
   ]
  },
  {
   "cell_type": "code",
   "execution_count": null,
   "metadata": {},
   "outputs": [],
   "source": [
    "[data_grid.shape[0] for data_grid in data_grids_b]"
   ]
  },
  {
   "cell_type": "markdown",
   "metadata": {},
   "source": [
    "# model"
   ]
  },
  {
   "cell_type": "code",
   "execution_count": null,
   "metadata": {},
   "outputs": [],
   "source": [
    "data = torch.tensor(trajs, dtype=torch.float64)"
   ]
  },
  {
   "cell_type": "code",
   "execution_count": null,
   "metadata": {},
   "outputs": [],
   "source": [
    "torch.manual_seed(0)\n",
    "np.random.seed(0)\n",
    "\n",
    "K = 2\n",
    "D = 4\n",
    "M = 0\n",
    "\n",
    "Df = 5\n",
    "\n",
    "momentum_lags = 30\n",
    "momentum_weights = np.arange(0.55, 2.05, 0.05)\n",
    "momentum_weights = torch.tensor(momentum_weights, dtype=torch.float64)\n",
    "\n",
    "bounds = np.array([[arena_xmin, arena_xmax], [arena_ymin, arena_ymax], \n",
    "                   [arena_xmin, arena_xmax], [arena_ymin, arena_ymax]])\n",
    "\n",
    "tran = GridTransformation(K=K, D=D, x_grids=x_grids, y_grids=y_grids,\n",
    "                          Df=Df, feature_vec_func=feature_vec_func,\n",
    "                          lags=momentum_lags, momentum_weights=momentum_weights)\n",
    "\n",
    "# observation\n",
    "obs = ARTruncatedNormalObservation(K=K, D=D, M=M, lags=momentum_lags, bounds=bounds, transformation=tran)\n",
    "\n",
    "# model\n",
    "model = HMM(K=K, D=D, M=M, observation=obs)"
   ]
  },
  {
   "cell_type": "code",
   "execution_count": null,
   "metadata": {},
   "outputs": [],
   "source": [
    "model.observation.mus_init = data[0] * torch.ones(K, D, dtype=torch.float64)"
   ]
  },
  {
   "cell_type": "code",
   "execution_count": null,
   "metadata": {},
   "outputs": [],
   "source": [
    "# compute memories\n",
    "masks_a, masks_b = tran.get_masks(data[:-1])\n",
    "\n",
    "momentum_vecs_a = get_momentum_in_batch(data[:-1, 0:2], lags=momentum_lags, weights=momentum_weights)\n",
    "momentum_vecs_b = get_momentum_in_batch(data[:-1, 2:4], lags=momentum_lags, weights=momentum_weights)\n",
    "\n",
    "feature_vecs_a = feature_vec_func(data[:-1, 0:2], data[:-1, 2:4])\n",
    "feature_vecs_b = feature_vec_func(data[:-1, 2:4], data[:-1, 0:2])\n",
    "\n",
    "m_kwargs_a = dict(momentum_vecs=momentum_vecs_a, feature_vecs=feature_vecs_a)\n",
    "m_kwargs_b = dict(momentum_vecs=momentum_vecs_b, feature_vecs=feature_vecs_b)\n"
   ]
  },
  {
   "cell_type": "code",
   "execution_count": null,
   "metadata": {},
   "outputs": [],
   "source": [
    "model.log_likelihood(data, masks=(masks_a, masks_b),\n",
    "                                  memory_kwargs_a=m_kwargs_a, memory_kwargs_b=m_kwargs_b)"
   ]
  },
  {
   "cell_type": "markdown",
   "metadata": {},
   "source": [
    "# training"
   ]
  },
  {
   "cell_type": "code",
   "execution_count": null,
   "metadata": {},
   "outputs": [],
   "source": [
    "##################### training ############################\n",
    "\n",
    "num_iters = 2000\n",
    "losses, opt = model.fit(data, num_iters=num_iters, lr=0.005, masks=(masks_a, masks_b),\n",
    "                                  memory_kwargs_a=m_kwargs_a, memory_kwargs_b=m_kwargs_b)"
   ]
  },
  {
   "cell_type": "code",
   "execution_count": null,
   "metadata": {},
   "outputs": [],
   "source": [
    "params1 = model.params"
   ]
  },
  {
   "cell_type": "code",
   "execution_count": null,
   "metadata": {},
   "outputs": [],
   "source": [
    "##################### training ############################\n",
    "\n",
    "num_iters = 1000\n",
    "losses_1, _ = model.fit(data, optimizer=opt, num_iters=num_iters, masks=(masks_a, masks_b),\n",
    "                                  memory_kwargs_a=m_kwargs_a, memory_kwargs_b=m_kwargs_b)"
   ]
  },
  {
   "cell_type": "code",
   "execution_count": null,
   "metadata": {},
   "outputs": [],
   "source": [
    "params2 = model.params"
   ]
  },
  {
   "cell_type": "code",
   "execution_count": null,
   "metadata": {},
   "outputs": [],
   "source": [
    "plt.plot(losses[1200:])"
   ]
  },
  {
   "cell_type": "code",
   "execution_count": null,
   "metadata": {},
   "outputs": [],
   "source": [
    "plt.plot(losses_1)"
   ]
  },
  {
   "cell_type": "code",
   "execution_count": null,
   "metadata": {},
   "outputs": [],
   "source": [
    "# inference\n",
    "print(\"inferiring most likely states...\")\n",
    "z = model.most_likely_states(data, masks=(masks_a, masks_b),\n",
    "                                  memory_kwargs_a=m_kwargs_a, memory_kwargs_b=m_kwargs_b)\n"
   ]
  },
  {
   "cell_type": "code",
   "execution_count": null,
   "metadata": {},
   "outputs": [],
   "source": [
    "plot_z(z, ylim=[0, 380])\n",
    "\n",
    "plt.plot(data[:,0].numpy(), color='white')"
   ]
  },
  {
   "cell_type": "code",
   "execution_count": null,
   "metadata": {},
   "outputs": [],
   "source": [
    "print(\"0 step prediction\")\n",
    "x_predict = k_step_prediction_for_grid_model(model, z, data, memory_kwargs_a=m_kwargs_a, memory_kwargs_b=m_kwargs_b)"
   ]
  },
  {
   "cell_type": "code",
   "execution_count": null,
   "metadata": {},
   "outputs": [],
   "source": [
    "plt.figure(figsize=(20,2))\n",
    "plt.plot(x_predict[:3600,0], label='prediction')\n",
    "plt.plot(data[:3600,0].numpy(), label='truth')\n",
    "plt.legend();"
   ]
  },
  {
   "cell_type": "code",
   "execution_count": null,
   "metadata": {},
   "outputs": [],
   "source": [
    "np.average(abs(x_predict - data.numpy()), axis=0)"
   ]
  },
  {
   "cell_type": "code",
   "execution_count": null,
   "metadata": {},
   "outputs": [],
   "source": [
    "# sampling\n",
    "print(\"sampling\")\n",
    "sample_z, sample_x = model.sample(50000)"
   ]
  },
  {
   "cell_type": "code",
   "execution_count": null,
   "metadata": {},
   "outputs": [],
   "source": [
    "plot_2_mice(sample_x, 0.5)"
   ]
  },
  {
   "cell_type": "code",
   "execution_count": null,
   "metadata": {},
   "outputs": [],
   "source": [
    "plot_2_mice(data[:50000].numpy(), 0.5)"
   ]
  },
  {
   "cell_type": "code",
   "execution_count": null,
   "metadata": {},
   "outputs": [],
   "source": [
    "plt.figure(figsize=(20, 4))\n",
    "\n",
    "plt.subplot(1, 4, 1)\n",
    "plt.hist(sample_x[:,0], bins=100);\n",
    "plt.title(\"x1\")\n",
    "plt.subplot(1, 4, 2)\n",
    "plt.hist(sample_x[:,1], bins=100);\n",
    "plt.title(\"y1\")\n",
    "plt.subplot(1, 4, 3)\n",
    "plt.hist(sample_x[:,2], bins=100);\n",
    "plt.title(\"x2\")\n",
    "plt.subplot(1, 4, 4)\n",
    "plt.hist(sample_x[:,3], bins=100);\n",
    "plt.title(\"y2\")\n",
    "\n",
    "plt.tight_layout()"
   ]
  },
  {
   "cell_type": "code",
   "execution_count": null,
   "metadata": {},
   "outputs": [],
   "source": [
    "plt.figure(figsize=(20, 4))\n",
    "\n",
    "plt.subplot(1, 4, 1)\n",
    "plt.hist(trajs[:,0], bins=100);\n",
    "plt.title(\"x1\")\n",
    "plt.subplot(1, 4, 2)\n",
    "plt.hist(trajs[:,1], bins=100);\n",
    "plt.title(\"y1\")\n",
    "plt.subplot(1, 4, 3)\n",
    "plt.hist(trajs[:,2], bins=100);\n",
    "plt.title(\"x2\")\n",
    "plt.subplot(1, 4, 4)\n",
    "plt.hist(trajs[:,3], bins=100);\n",
    "plt.title(\"yw\")\n",
    "\n",
    "plt.tight_layout()"
   ]
  },
  {
   "cell_type": "markdown",
   "metadata": {},
   "source": [
    "# dynamics"
   ]
  },
  {
   "cell_type": "code",
   "execution_count": null,
   "metadata": {},
   "outputs": [],
   "source": [
    "torch.sigmoid(tran.transformations_a[0].Ws)"
   ]
  },
  {
   "cell_type": "code",
   "execution_count": null,
   "metadata": {},
   "outputs": [],
   "source": [
    "torch.sigmoid(tran.transformations_a[1].Ws)"
   ]
  },
  {
   "cell_type": "code",
   "execution_count": null,
   "metadata": {},
   "outputs": [],
   "source": [
    "torch.sigmoid(tran.transformations_a[2].Ws)"
   ]
  },
  {
   "cell_type": "code",
   "execution_count": null,
   "metadata": {},
   "outputs": [],
   "source": [
    "torch.sigmoid(tran.transformations_a[3].Ws)"
   ]
  },
  {
   "cell_type": "code",
   "execution_count": null,
   "metadata": {},
   "outputs": [],
   "source": [
    "torch.sigmoid(tran.transformations_a[4].Ws)"
   ]
  },
  {
   "cell_type": "code",
   "execution_count": null,
   "metadata": {},
   "outputs": [],
   "source": [
    "torch.sigmoid(tran.transformations_a[5].Ws)"
   ]
  },
  {
   "cell_type": "code",
   "execution_count": null,
   "metadata": {},
   "outputs": [],
   "source": [
    "torch.sigmoid(tran.transformations_a[6].Ws)"
   ]
  },
  {
   "cell_type": "code",
   "execution_count": null,
   "metadata": {},
   "outputs": [],
   "source": [
    "torch.sigmoid(tran.transformations_a[7].Ws)"
   ]
  },
  {
   "cell_type": "code",
   "execution_count": null,
   "metadata": {},
   "outputs": [],
   "source": [
    "torch.sigmoid(tran.transformations_a[8].Ws[0])"
   ]
  },
  {
   "cell_type": "code",
   "execution_count": null,
   "metadata": {},
   "outputs": [],
   "source": [
    "weights_a = 2 * np.array([torch.sigmoid(t.Ws).detach().numpy() for t in tran.transformations_a])"
   ]
  },
  {
   "cell_type": "code",
   "execution_count": null,
   "metadata": {},
   "outputs": [],
   "source": [
    "weights_b = 2 * np.array([torch.sigmoid(t.Ws).detach().numpy() for t in tran.transformations_b])"
   ]
  },
  {
   "cell_type": "code",
   "execution_count": null,
   "metadata": {},
   "outputs": [],
   "source": [
    "weights_a.shape"
   ]
  },
  {
   "cell_type": "code",
   "execution_count": null,
   "metadata": {},
   "outputs": [],
   "source": []
  },
  {
   "cell_type": "code",
   "execution_count": null,
   "metadata": {},
   "outputs": [],
   "source": [
    "def plot_weights(weights):\n",
    "    plt.figure(figsize=(16, 12))\n",
    "\n",
    "    plt.subplot(3,3,1)\n",
    "    plt.title(\"Grid 2\")\n",
    "    for k in range(K):\n",
    "        plt.bar(np.arange(6) - 0.2, weights[2][k], width=.4, color='b', label='k={}'.format(k))\n",
    "    plt.plot([0, 6], [0, 0], '-k')\n",
    "    plt.ylim(0, 2)\n",
    "    plt.xticks(np.arange(0,6,1), [\"m\", \"other\", \"water\", \"nest\", \"food\", \"corner\"])\n",
    "    plt.grid()\n",
    "    plt.legend()\n",
    "\n",
    "    plt.subplot(3,3,2)\n",
    "    plt.title(\"Grid 5\")\n",
    "    plt.bar(np.arange(6) - 0.2, weights[5][0], width=.4, color='b', label='k=0')\n",
    "    plt.bar(np.arange(6) + 0.2, weights[5][1], width=.4, color='r', label='k=1')\n",
    "    plt.plot([0, 6], [0, 0], '-k')\n",
    "    plt.ylim(0, 2)\n",
    "    plt.xticks(np.arange(0,6,1))\n",
    "    plt.grid()\n",
    "\n",
    "    plt.subplot(3,3,3)\n",
    "    plt.title(\"Grid 8\")\n",
    "    plt.bar(np.arange(6) - 0.2, weights[8][0], width=.4, color='b', label='k=0')\n",
    "    plt.bar(np.arange(6) + 0.2, weights[8][1], width=.4, color='r', label='k=1')\n",
    "    plt.plot([0, 6], [0, 0], '-k')\n",
    "    plt.ylim(0, 2)\n",
    "    plt.xticks(np.arange(0,6,1))\n",
    "    plt.grid()\n",
    "\n",
    "    plt.subplot(3,3,4)\n",
    "    plt.title(\"Grid 1\")\n",
    "    plt.bar(np.arange(6) - 0.2, weights[1][0], width=.4, color='b', label='k=0')\n",
    "    plt.bar(np.arange(6) + 0.2, weights[1][1], width=.4, color='r', label='k=1')\n",
    "    plt.plot([0, 6], [0, 0], '-k')\n",
    "    plt.ylim(0, 2)\n",
    "    plt.xticks(np.arange(0,6,1))\n",
    "    plt.grid()\n",
    "\n",
    "    plt.subplot(3,3,5)\n",
    "    plt.title(\"Grid 4\")\n",
    "    plt.bar(np.arange(6) - 0.2, weights[4][0], width=.4, color='b', label='k=0')\n",
    "    plt.bar(np.arange(6) + 0.2, weights[4][1], width=.4, color='r', label='k=1')\n",
    "    plt.plot([0, 6], [0, 0], '-k')\n",
    "    plt.ylim(0, 2)\n",
    "    plt.xticks(np.arange(0,6,1))\n",
    "    plt.grid()\n",
    "\n",
    "    plt.subplot(3,3,6)\n",
    "    plt.title(\"Grid 7\")\n",
    "    plt.bar(np.arange(6) - 0.2, weights[7][0], width=.4, color='b', label='k=0')\n",
    "    plt.bar(np.arange(6) + 0.2, weights[7][1], width=.4, color='r', label='k=1')\n",
    "    plt.plot([0, 6], [0, 0], '-k')\n",
    "    plt.ylim(0, 2)\n",
    "    plt.xticks(np.arange(0,6,1))\n",
    "    plt.grid()\n",
    "\n",
    "    plt.subplot(3,3,7)\n",
    "    plt.title(\"Grid 0\")\n",
    "    plt.bar(np.arange(6) - 0.2, weights[0][0], width=.4, color='b', label='k=0')\n",
    "    plt.bar(np.arange(6) + 0.2, weights[0][1], width=.4, color='r', label='k=1')\n",
    "    plt.plot([0, 6], [0, 0], '-k')\n",
    "    plt.ylim(0, 2)\n",
    "    plt.xticks(np.arange(0,6,1))\n",
    "    plt.grid()\n",
    "\n",
    "    plt.subplot(3,3,8)\n",
    "    plt.title(\"Grid 3\")\n",
    "    plt.bar(np.arange(6) - 0.2, weights[3][0], width=.4, color='b', label='k=0')\n",
    "    plt.bar(np.arange(6) + 0.2, weights[3][1], width=.4, color='r', label='k=1')\n",
    "    plt.plot([0, 6], [0, 0], '-k')\n",
    "    plt.ylim(0, 2)\n",
    "    plt.xticks(np.arange(0,6,1))\n",
    "    plt.grid()\n",
    "\n",
    "    plt.subplot(3,3,9)\n",
    "    plt.title(\"Grid 6\")\n",
    "    plt.bar(np.arange(6) - 0.2, weights[6][0], width=.4, color='b', label='k=0')\n",
    "    plt.bar(np.arange(6) + 0.2, weights[6][1], width=.4, color='r', label='k=1')\n",
    "    plt.plot([0, 6], [0, 0], '-k')\n",
    "    plt.ylim(0, 2)\n",
    "    plt.xticks(np.arange(0,6,1))\n",
    "    plt.grid()\n",
    "\n",
    "    plt.tight_layout()"
   ]
  },
  {
   "cell_type": "code",
   "execution_count": null,
   "metadata": {},
   "outputs": [],
   "source": [
    "plot_weights(weights_a)"
   ]
  },
  {
   "cell_type": "code",
   "execution_count": null,
   "metadata": {},
   "outputs": [],
   "source": [
    "plot_weights(weights_b)"
   ]
  },
  {
   "cell_type": "code",
   "execution_count": null,
   "metadata": {},
   "outputs": [],
   "source": [
    "data.shape"
   ]
  },
  {
   "cell_type": "code",
   "execution_count": null,
   "metadata": {},
   "outputs": [],
   "source": [
    "plt.figure(figsize=(20,2))\n",
    "plt.plot(trajs[:,2])"
   ]
  },
  {
   "cell_type": "code",
   "execution_count": null,
   "metadata": {},
   "outputs": [],
   "source": [
    "plot_2_mice(trajs, alpha=0.5)\n",
    "plt.scatter([50, 270, 50, 270], [50, 50, 330, 330])\n"
   ]
  },
  {
   "cell_type": "code",
   "execution_count": null,
   "metadata": {},
   "outputs": [],
   "source": [
    "trajs.shape"
   ]
  },
  {
   "cell_type": "code",
   "execution_count": null,
   "metadata": {},
   "outputs": [],
   "source": [
    "# show occupations of K\n",
    "# check consistency between data and samples"
   ]
  },
  {
   "cell_type": "code",
   "execution_count": null,
   "metadata": {},
   "outputs": [],
   "source": [
    "torch.sigmoid(tran.transformations_a[3].Ws[1]).detach().numpy()"
   ]
  },
  {
   "cell_type": "code",
   "execution_count": null,
   "metadata": {},
   "outputs": [],
   "source": [
    "for i in range(4):\n",
    "    print(i)"
   ]
  },
  {
   "cell_type": "code",
   "execution_count": null,
   "metadata": {},
   "outputs": [],
   "source": []
  }
 ],
 "metadata": {
  "kernelspec": {
   "display_name": "ptc",
   "language": "python",
   "name": "ptc"
  },
  "language_info": {
   "codemirror_mode": {
    "name": "ipython",
    "version": 3
   },
   "file_extension": ".py",
   "mimetype": "text/x-python",
   "name": "python",
   "nbconvert_exporter": "python",
   "pygments_lexer": "ipython3",
   "version": "3.7.3"
  }
 },
 "nbformat": 4,
 "nbformat_minor": 2
}
