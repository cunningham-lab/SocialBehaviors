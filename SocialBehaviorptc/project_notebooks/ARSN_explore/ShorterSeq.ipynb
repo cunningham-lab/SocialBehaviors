{
 "cells": [
  {
   "cell_type": "markdown",
   "metadata": {},
   "source": [
    "Try AR-SN-HMM on shorter sequence."
   ]
  },
  {
   "cell_type": "code",
   "execution_count": 1,
   "metadata": {
    "collapsed": true
   },
   "outputs": [],
   "source": [
    "import sys\n",
    "sys.path.append('/Users/leah/Columbia/courses/19summer/SocialBehavior/SocialBehaviorptc')"
   ]
  },
  {
   "cell_type": "code",
   "execution_count": 2,
   "metadata": {
    "collapsed": false
   },
   "outputs": [],
   "source": [
    "from ssm_ptc.models.hmm import HMM\n",
    "from ssm_ptc.observations.ar_sigmoid_normal_observation import ARSigmoidNormalObservation\n",
    "from ssm_ptc.distributions.sigmoidnormal import SigmoidNormal\n",
    "from ssm_ptc.transformations.linear import LinearTransformation\n",
    "from ssm_ptc.utils import find_permutation, random_rotation, k_step_prediction\n",
    "\n",
    "import torch\n",
    "import numpy as np\n",
    "import matplotlib.pyplot as plt\n",
    "\n",
    "import seaborn as sns\n",
    "sns.set_style(\"white\")\n",
    "sns.set_context(\"talk\")\n",
    "\n",
    "from hips.plotting.colormaps import gradient_cmap, white_to_color_cmap\n",
    "color_names = [\n",
    "    \"windows blue\",\n",
    "    \"red\",\n",
    "    \"amber\",\n",
    "    \"faded green\",\n",
    "    \"dusty purple\",\n",
    "    \"orange\"\n",
    "    ]\n",
    "\n",
    "colors = sns.xkcd_palette(color_names)\n",
    "cmap = gradient_cmap(colors)\n",
    "\n",
    "from tqdm import tqdm_notebook as tqdm\n",
    "import time\n"
   ]
  },
  {
   "cell_type": "code",
   "execution_count": 3,
   "metadata": {
    "collapsed": true
   },
   "outputs": [],
   "source": [
    "import joblib\n",
    "\n",
    "datasets_processed = joblib.load('/Users/leah/Columbia/courses/19summer/SocialBehavior/tracedata/all_data_3_1')  # a list of length 30, each is a social_dataset\n",
    "\n",
    "rendered_data = []\n",
    "for dataset in datasets_processed:\n",
    "    session_data = dataset.render_trajectories([3,8])  # list of length 2, each item is an array (T, 2). T = 36000\n",
    "    rendered_data.append(np.concatenate((session_data),axis = 1)) # each item is an array (T, 4)\n",
    "trajectories = np.concatenate(rendered_data,axis = 0)  # (T*30, 4)\n",
    "\n",
    "traj29 = rendered_data[29]"
   ]
  },
  {
   "cell_type": "code",
   "execution_count": 4,
   "metadata": {
    "collapsed": false
   },
   "outputs": [
    {
     "data": {
      "text/plain": [
       "(36000, 4)"
      ]
     },
     "execution_count": 4,
     "metadata": {},
     "output_type": "execute_result"
    }
   ],
   "source": [
    "traj29.shape"
   ]
  },
  {
   "cell_type": "code",
   "execution_count": 5,
   "metadata": {
    "collapsed": true
   },
   "outputs": [],
   "source": [
    "def plot_2_mice(data):\n",
    "    plt.plot(data[:,0], data[:,1], label='virgin')\n",
    "    plt.plot(data[:,2], data[:,3], label='mother')\n",
    "    plt.legend();"
   ]
  },
  {
   "cell_type": "code",
   "execution_count": 9,
   "metadata": {
    "collapsed": true
   },
   "outputs": [],
   "source": [
    "def plot_4_traces(data):\n",
    "    plt.plot(data[:, 0], label='x1')\n",
    "    plt.plot(data[:, 1], label='y1')\n",
    "    plt.plot(data[:, 2], label='x2')\n",
    "    plt.plot(data[:, 3], label='y2')\n",
    "    plt.legend();"
   ]
  },
  {
   "cell_type": "code",
   "execution_count": 13,
   "metadata": {
    "collapsed": true
   },
   "outputs": [],
   "source": [
    "arena_xmax = 320\n",
    "arena_ymax = 370"
   ]
  },
  {
   "cell_type": "code",
   "execution_count": 43,
   "metadata": {
    "collapsed": true
   },
   "outputs": [],
   "source": [
    "K = 5\n",
    "D = 4\n",
    "T = 36000\n",
    "\n",
    "bounds = np.array([[-10, arena_xmax + 10], [-10, arena_ymax + 10], [-10, arena_xmax + 10],\n",
    "                   [-10, arena_ymax + 10]])\n",
    "\n",
    "#bounds = np.array([[-300, 300], [-300, 300], [-300, 300], [-300, 300]])"
   ]
  },
  {
   "cell_type": "code",
   "execution_count": 44,
   "metadata": {
    "collapsed": false
   },
   "outputs": [],
   "source": [
    "tran = LinearTransformation(K=K, D=D, lags=10, use_bias=True)\n",
    "observation = ARSigmoidNormalObservation(K=K, D=D, M=0, transformation=tran, bounds=bounds, alpha=0.5)\n",
    "\n",
    "model = HMM(K=K, D=D, M=0, observation=observation)\n",
    "\n",
    "data = torch.tensor(rendered_data[0][15000:20000], dtype=torch.float64)"
   ]
  },
  {
   "cell_type": "code",
   "execution_count": 45,
   "metadata": {
    "collapsed": false
   },
   "outputs": [
    {
     "data": {
      "text/plain": [
       "tensor(-1.0754e+08, dtype=torch.float64, grad_fn=<HMMNormalizerCythonBackward>)"
      ]
     },
     "execution_count": 45,
     "metadata": {},
     "output_type": "execute_result"
    }
   ],
   "source": [
    "model.log_likelihood(data)"
   ]
  },
  {
   "cell_type": "code",
   "execution_count": 46,
   "metadata": {
    "collapsed": false
   },
   "outputs": [
    {
     "data": {
      "application/vnd.jupyter.widget-view+json": {
       "model_id": "abe93532394247c087509695c0db42fe",
       "version_major": 2,
       "version_minor": 0
      },
      "text/plain": [
       "HBox(children=(IntProgress(value=0, max=2000), HTML(value='')))"
      ]
     },
     "metadata": {},
     "output_type": "display_data"
    },
    {
     "name": "stdout",
     "output_type": "stream",
     "text": [
      "\n"
     ]
    }
   ],
   "source": [
    "num_iters = 2000\n",
    "pbar = tqdm(total=num_iters, file=sys.stdout)\n",
    "\n",
    "optimizer = torch.optim.Adam(model.params, lr=0.005)\n",
    "\n",
    "losses = []\n",
    "for i in np.arange(num_iters):\n",
    "\n",
    "    optimizer.zero_grad()\n",
    "\n",
    "    loss = model.loss(data)\n",
    "    loss.backward()\n",
    "    optimizer.step()\n",
    "    losses.append(loss.detach().numpy())\n",
    "    \n",
    "    if i % 10 == 0:\n",
    "        pbar.set_description('iter {} loss {:.2f}'.format(i, loss))\n",
    "        pbar.update(10)\n",
    "        \n",
    "pbar.close()"
   ]
  },
  {
   "cell_type": "code",
   "execution_count": 47,
   "metadata": {
    "collapsed": false
   },
   "outputs": [
    {
     "data": {
      "application/vnd.jupyter.widget-view+json": {
       "model_id": "b38d418c84a74d9dbb81dd3d4481f2e9",
       "version_major": 2,
       "version_minor": 0
      },
      "text/plain": [
       "HBox(children=(IntProgress(value=0, max=2000), HTML(value='')))"
      ]
     },
     "metadata": {},
     "output_type": "display_data"
    },
    {
     "name": "stdout",
     "output_type": "stream",
     "text": [
      "\n"
     ]
    }
   ],
   "source": [
    "num_iters = 2000\n",
    "pbar = tqdm(total=num_iters, file=sys.stdout)\n",
    "\n",
    "optimizer = torch.optim.Adam(model.params, lr=0.001)\n",
    "\n",
    "for i in np.arange(num_iters):\n",
    "\n",
    "    optimizer.zero_grad()\n",
    "\n",
    "    loss = model.loss(data)\n",
    "    loss.backward()\n",
    "    optimizer.step()\n",
    "    losses.append(loss.detach().numpy())\n",
    "    \n",
    "    if i % 10 == 0:\n",
    "        pbar.set_description('iter {} loss {:.2f}'.format(i, loss))\n",
    "        pbar.update(10)\n",
    "        \n",
    "pbar.close()"
   ]
  },
  {
   "cell_type": "code",
   "execution_count": 57,
   "metadata": {
    "collapsed": false
   },
   "outputs": [
    {
     "data": {
      "application/vnd.jupyter.widget-view+json": {
       "model_id": "138d04a5596d43be8e45946afeb3b718",
       "version_major": 2,
       "version_minor": 0
      },
      "text/plain": [
       "HBox(children=(IntProgress(value=0, max=2000), HTML(value='')))"
      ]
     },
     "metadata": {},
     "output_type": "display_data"
    },
    {
     "name": "stdout",
     "output_type": "stream",
     "text": [
      "\n"
     ]
    }
   ],
   "source": [
    "num_iters = 2000\n",
    "pbar = tqdm(total=num_iters, file=sys.stdout)\n",
    "\n",
    "optimizer = torch.optim.Adam(model.params, lr=0.0005)\n",
    "\n",
    "for i in np.arange(num_iters):\n",
    "\n",
    "    optimizer.zero_grad()\n",
    "\n",
    "    loss = model.loss(data)\n",
    "    loss.backward()\n",
    "    optimizer.step()\n",
    "    losses.append(loss.detach().numpy())\n",
    "    \n",
    "    if i % 10 == 0:\n",
    "        pbar.set_description('iter {} loss {:.2f}'.format(i, loss))\n",
    "        pbar.update(10)\n",
    "        \n",
    "pbar.close()"
   ]
  },
  {
   "cell_type": "code",
   "execution_count": 59,
   "metadata": {
    "collapsed": false
   },
   "outputs": [
    {
     "data": {
      "text/plain": [
       "[<matplotlib.lines.Line2D at 0x13a357668>]"
      ]
     },
     "execution_count": 59,
     "metadata": {},
     "output_type": "execute_result"
    },
    {
     "data": {
      "image/png": "[encoded data removed]",
      "text/plain": [
       "<Figure size 432x288 with 1 Axes>"
      ]
     },
     "metadata": {
      "needs_background": "light"
     },
     "output_type": "display_data"
    }
   ],
   "source": [
    "plt.plot(losses[4000:])"
   ]
  },
  {
   "cell_type": "markdown",
   "metadata": {},
   "source": [
    "# check prediction"
   ]
  },
  {
   "cell_type": "code",
   "execution_count": 60,
   "metadata": {
    "collapsed": true
   },
   "outputs": [],
   "source": [
    "z = model.most_likely_states(data)\n",
    "x_predict_arr = k_step_prediction(model, z, data)"
   ]
  },
  {
   "cell_type": "code",
   "execution_count": 61,
   "metadata": {
    "collapsed": false
   },
   "outputs": [
    {
     "data": {
      "text/plain": [
       "[4990, 0, 10, 0, 0]"
      ]
     },
     "execution_count": 61,
     "metadata": {},
     "output_type": "execute_result"
    }
   ],
   "source": [
    "[sum(z==k) for k in range(K)]"
   ]
  },
  {
   "cell_type": "code",
   "execution_count": 62,
   "metadata": {
    "collapsed": false
   },
   "outputs": [
    {
     "data": {
      "text/plain": [
       "([], <a list of 0 Text yticklabel objects>)"
      ]
     },
     "execution_count": 62,
     "metadata": {},
     "output_type": "execute_result"
    },
    {
     "data": {
      "image/png": "[encoded data removed]",
      "text/plain": [
       "<Figure size 432x288 with 1 Axes>"
      ]
     },
     "metadata": {
      "needs_background": "light"
     },
     "output_type": "display_data"
    }
   ],
   "source": [
    "T = 5000\n",
    "plt.imshow(z[None,:], aspect=\"auto\", cmap=cmap, vmin=0, vmax=len(colors))\n",
    "plt.xlim(0, T)\n",
    "plt.ylabel(\"$z_{\\\\mathrm{true}}$\")\n",
    "plt.yticks([])"
   ]
  },
  {
   "cell_type": "code",
   "execution_count": 65,
   "metadata": {
    "collapsed": false
   },
   "outputs": [
    {
     "data": {
      "image/png": "[encoded data removed]",
      "text/plain": [
       "<Figure size 1080x144 with 1 Axes>"
      ]
     },
     "metadata": {
      "needs_background": "light"
     },
     "output_type": "display_data"
    }
   ],
   "source": [
    "plt.figure(figsize=(15,2))\n",
    "plt.plot(x_predict_arr[:,0], label='predict')\n",
    "plt.plot(data[:,0].numpy(), label='true')\n",
    "plt.legend()\n",
    "plt.show()"
   ]
  },
  {
   "cell_type": "code",
   "execution_count": 66,
   "metadata": {
    "collapsed": false
   },
   "outputs": [
    {
     "data": {
      "image/png": "[encoded data removed]",
      "text/plain": [
       "<Figure size 1080x144 with 1 Axes>"
      ]
     },
     "metadata": {
      "needs_background": "light"
     },
     "output_type": "display_data"
    }
   ],
   "source": [
    "plt.figure(figsize=(15,2))\n",
    "plt.plot(x_predict_arr[:,3], label='predict')\n",
    "plt.plot(data[:,3].numpy(), label='true')\n",
    "plt.legend()\n",
    "plt.show()"
   ]
  },
  {
   "cell_type": "code",
   "execution_count": null,
   "metadata": {
    "collapsed": false
   },
   "outputs": [],
   "source": [
    "plt.figure(figsize=(15,2))\n",
    "plt.plot(x_predict_arr[:,2], label='predict')\n",
    "plt.plot(data[:,2].numpy(), label='true')\n",
    "plt.legend()\n",
    "plt.show()"
   ]
  },
  {
   "cell_type": "code",
   "execution_count": null,
   "metadata": {
    "collapsed": false
   },
   "outputs": [],
   "source": [
    "plt.figure(figsize=(15,2))\n",
    "plt.plot(x_predict_arr[2000:2200,0], label='predict')\n",
    "plt.plot(data[2000:2200,0].numpy(), label='true')\n",
    "plt.legend()\n",
    "plt.show()"
   ]
  },
  {
   "cell_type": "markdown",
   "metadata": {},
   "source": [
    "may want to encode tihs \"shift\" behavior"
   ]
  },
  {
   "cell_type": "code",
   "execution_count": null,
   "metadata": {
    "collapsed": false
   },
   "outputs": [],
   "source": [
    "slc = slice(0,-1)\n",
    "\n",
    "plt.figure(figsize=(20,4))\n",
    "plt.imshow(z[None,slc], aspect=\"auto\")"
   ]
  },
  {
   "cell_type": "code",
   "execution_count": null,
   "metadata": {
    "collapsed": false
   },
   "outputs": [],
   "source": [
    "model.transition_matrix"
   ]
  },
  {
   "cell_type": "code",
   "execution_count": null,
   "metadata": {
    "collapsed": false
   },
   "outputs": [],
   "source": [
    "import numpy.random as npr\n",
    "Pi = 2 * np.eye(K) + .05 * npr.rand(K, K)\n",
    "torch.nn.Softmax(dim=1)(torch.tensor(Pi))"
   ]
  },
  {
   "cell_type": "markdown",
   "metadata": {},
   "source": [
    "see why the hidden states collapse"
   ]
  },
  {
   "cell_type": "code",
   "execution_count": null,
   "metadata": {
    "collapsed": false
   },
   "outputs": [],
   "source": [
    "samples_z, samples_x = model.sample(1500)"
   ]
  },
  {
   "cell_type": "code",
   "execution_count": null,
   "metadata": {
    "collapsed": false
   },
   "outputs": [],
   "source": [
    "plot_2_mice(samples_x)"
   ]
  },
  {
   "cell_type": "code",
   "execution_count": null,
   "metadata": {
    "collapsed": false
   },
   "outputs": [],
   "source": [
    "plt.figure(figsize=(20,2))\n",
    "plot_4_traces(samples_x)"
   ]
  },
  {
   "cell_type": "code",
   "execution_count": null,
   "metadata": {
    "collapsed": false
   },
   "outputs": [],
   "source": [
    "slc = slice(0,-1)\n",
    "\n",
    "plt.figure(figsize=(20,4))\n",
    "plt.imshow(samples_z[None,slc], aspect=\"auto\")"
   ]
  },
  {
   "cell_type": "markdown",
   "metadata": {},
   "source": [
    "# try to see how different states like"
   ]
  },
  {
   "cell_type": "code",
   "execution_count": null,
   "metadata": {
    "collapsed": false
   },
   "outputs": [],
   "source": [
    "def plot_quiver(XYs, dXYs, mouse, other_mouse_loc=None):\n",
    "    if mouse == 'virgin':\n",
    "        i = 0\n",
    "        j = 1\n",
    "    elif mouse == 'mother':\n",
    "        i = 2\n",
    "        j = 3\n",
    "        \n",
    "    fig, axs = plt.subplots(1, 2, figsize=(20, 10))\n",
    "\n",
    "    axs[0].quiver(XYs[:,i], XYs[:,j], dXYs[:, 0, i], dXYs[:, 0, j],\n",
    "                           angles='xy', scale_units='xy', scale=5, alpha=0.5)\n",
    "    axs[0].set_title('K=0')\n",
    "\n",
    "    axs[1].quiver(XYs[:,i], XYs[:,j], dXYs[:, 1, i], dXYs[:, 1, j],\n",
    "                           angles='xy', scale_units='xy', scale=5, alpha=0.5)\n",
    "    axs[1].set_title('K=1')\n",
    "\n",
    "   \n",
    "    if other_mouse_loc is not None:\n",
    "        axs[0].plot(*other_mouse_loc, 'ro')\n",
    "        axs[1].plot(*other_mouse_loc, 'ro')\n",
    "    \n",
    "\n",
    "    plt.tight_layout()"
   ]
  },
  {
   "cell_type": "code",
   "execution_count": null,
   "metadata": {
    "collapsed": true
   },
   "outputs": [],
   "source": [
    "mus = tran.transform(data)\n",
    "p_data = SigmoidNormal(mus=mus, log_sigmas=observation.log_sigmas, bounds=bounds, alpha=0.5)"
   ]
  },
  {
   "cell_type": "code",
   "execution_count": null,
   "metadata": {
    "collapsed": true
   },
   "outputs": [],
   "source": [
    "samples = p_data.sample((100,))"
   ]
  },
  {
   "cell_type": "code",
   "execution_count": null,
   "metadata": {
    "collapsed": false
   },
   "outputs": [],
   "source": [
    "d_data = torch.mean(samples, dim=0).numpy() - data.numpy()[:,None]"
   ]
  },
  {
   "cell_type": "code",
   "execution_count": null,
   "metadata": {
    "collapsed": true
   },
   "outputs": [],
   "source": [
    "mean = torch.mean(samples, dim=0).numpy()"
   ]
  },
  {
   "cell_type": "code",
   "execution_count": null,
   "metadata": {
    "collapsed": false
   },
   "outputs": [],
   "source": [
    "plot_quiver(data, d_data, 'virgin', other_mouse_loc=None)"
   ]
  },
  {
   "cell_type": "code",
   "execution_count": null,
   "metadata": {
    "collapsed": false
   },
   "outputs": [],
   "source": [
    "plot_quiver(data, d_data, 'mother', other_mouse_loc=None)"
   ]
  },
  {
   "cell_type": "code",
   "execution_count": null,
   "metadata": {
    "collapsed": true
   },
   "outputs": [],
   "source": [
    "nest = np.array([270, 330])"
   ]
  },
  {
   "cell_type": "code",
   "execution_count": null,
   "metadata": {
    "collapsed": true
   },
   "outputs": [],
   "source": [
    "XX, YY = np.meshgrid(np.linspace(0, 320, 20), \n",
    "                     np.linspace(0, 370, 25))\n",
    "XY = np.column_stack((np.ravel(XX), np.ravel(YY))) # shape (100,2) grid values\n",
    "\n",
    "XY_other = np.tile(nest[None,], (500,1))\n",
    "\n",
    "XY_virgin = np.concatenate((XY, XY_other), axis=1)\n",
    "XY_mother = np.concatenate((XY_other, XY), axis=1)\n",
    "\n",
    "mus_virgin = tran.transform(torch.tensor(XY_virgin, dtype=torch.float64))\n",
    "p_virgin = SigmoidNormal(mus=mus_virgin, log_sigmas=observation.log_sigmas, bounds=bounds, alpha=0.5)\n",
    "\n",
    "mus_mother = tran.transform(torch.tensor(XY_mother, dtype=torch.float64))\n",
    "p_mother = SigmoidNormal(mus=mus_mother, log_sigmas=observation.log_sigmas, bounds=bounds, alpha=0.5)\n",
    "\n",
    "samples_virgin = p_virgin.sample((100,))\n",
    "samples_mother = p_mother.sample((100,))\n",
    "\n",
    "dXY_virgin = torch.mean(samples_virgin, dim=0).numpy() - XY_virgin[:, None]\n",
    "dXY_mother = torch.mean(samples_mother, dim=0).numpy() - XY_mother[:, None]"
   ]
  },
  {
   "cell_type": "code",
   "execution_count": null,
   "metadata": {
    "collapsed": false
   },
   "outputs": [],
   "source": [
    "plot_quiver(XY_virgin, dXY_virgin, 'virgin', nest)"
   ]
  },
  {
   "cell_type": "code",
   "execution_count": null,
   "metadata": {
    "collapsed": false
   },
   "outputs": [],
   "source": [
    "plot_quiver(XY_mother, dXY_mother, 'mother', nest)"
   ]
  },
  {
   "cell_type": "code",
   "execution_count": null,
   "metadata": {
    "collapsed": true
   },
   "outputs": [],
   "source": [
    "# another experiment to add: fixing the trajectory of one mouse, and generating the other? does this make sense?"
   ]
  },
  {
   "cell_type": "code",
   "execution_count": null,
   "metadata": {
    "collapsed": true
   },
   "outputs": [],
   "source": []
  },
  {
   "cell_type": "code",
   "execution_count": null,
   "metadata": {
    "collapsed": true
   },
   "outputs": [],
   "source": []
  },
  {
   "cell_type": "code",
   "execution_count": null,
   "metadata": {
    "collapsed": true
   },
   "outputs": [],
   "source": []
  },
  {
   "cell_type": "markdown",
   "metadata": {},
   "source": [
    "train for another 1000 iters"
   ]
  },
  {
   "cell_type": "code",
   "execution_count": null,
   "metadata": {
    "collapsed": false
   },
   "outputs": [],
   "source": [
    "num_iters = 1000\n",
    "pbar = tqdm(total=num_iters, file=sys.stdout)\n",
    "\n",
    "optimizer = torch.optim.Adam(model.params, lr=0.001)\n",
    "\n",
    "for i in np.arange(num_iters):\n",
    "\n",
    "    optimizer.zero_grad()\n",
    "\n",
    "    loss = model.loss(data)\n",
    "    loss.backward(retain_graph=True)\n",
    "    optimizer.step()\n",
    "    losses.append(loss.detach().numpy())\n",
    "    \n",
    "    if i % 10 == 0:\n",
    "        pbar.set_description('iter {} loss {:.2f}'.format(i, loss))\n",
    "        pbar.update(10)\n",
    "        \n",
    "pbar.close()"
   ]
  },
  {
   "cell_type": "code",
   "execution_count": null,
   "metadata": {
    "collapsed": false
   },
   "outputs": [],
   "source": [
    "plt.plot(losses[5500:])"
   ]
  },
  {
   "cell_type": "code",
   "execution_count": null,
   "metadata": {
    "collapsed": false
   },
   "outputs": [],
   "source": [
    "num_iters = 2000\n",
    "\n",
    "pbar = tqdm(total=num_iters, file=sys.stdout)\n",
    "\n",
    "for i in np.arange(num_iters):\n",
    "\n",
    "    optimizer.zero_grad()\n",
    "\n",
    "    loss = model.loss(data)\n",
    "    loss.backward(retain_graph=True)\n",
    "    optimizer.step()\n",
    "    losses.append(loss.detach().numpy())\n",
    "    \n",
    "    if i % 10 == 0:\n",
    "        pbar.set_description('iter {} loss {:.2f}'.format(i, loss))\n",
    "        pbar.update(10)\n",
    "        \n",
    "pbar.close()"
   ]
  },
  {
   "cell_type": "code",
   "execution_count": null,
   "metadata": {
    "collapsed": false
   },
   "outputs": [],
   "source": [
    "plt.plot(losses[6000:])"
   ]
  },
  {
   "cell_type": "code",
   "execution_count": null,
   "metadata": {
    "collapsed": false
   },
   "outputs": [],
   "source": [
    "z = model.most_likely_states(data)\n",
    "x_predict_arr = k_step_prediction(model, z, data)\n",
    "\n",
    "plt.figure(figsize=(15,2))\n",
    "plt.plot(x_predict_arr[:,0], label='predict')\n",
    "plt.plot(data[:,0].numpy(), label='true')\n",
    "plt.legend()\n",
    "plt.show()"
   ]
  },
  {
   "cell_type": "code",
   "execution_count": null,
   "metadata": {
    "collapsed": false
   },
   "outputs": [],
   "source": [
    "slc = slice(0,-1)\n",
    "\n",
    "plt.figure(figsize=(20,4))\n",
    "plt.imshow(z[None,slc], aspect=\"auto\")"
   ]
  },
  {
   "cell_type": "code",
   "execution_count": null,
   "metadata": {
    "collapsed": false
   },
   "outputs": [],
   "source": [
    "samples_z, samples_x = model.sample(1000)"
   ]
  },
  {
   "cell_type": "code",
   "execution_count": null,
   "metadata": {
    "collapsed": false
   },
   "outputs": [],
   "source": [
    "plt.plot(samples_x[:,0], samples_x[:,1], label='virgin')\n",
    "plt.plot(samples_x[:,2], samples_x[:,3], label='mother')\n",
    "plt.legend();"
   ]
  },
  {
   "cell_type": "code",
   "execution_count": null,
   "metadata": {
    "collapsed": true
   },
   "outputs": [],
   "source": [
    "plt.plot(samples)"
   ]
  },
  {
   "cell_type": "code",
   "execution_count": null,
   "metadata": {
    "collapsed": false
   },
   "outputs": [],
   "source": [
    "# need to look into why"
   ]
  },
  {
   "cell_type": "code",
   "execution_count": null,
   "metadata": {
    "collapsed": false
   },
   "outputs": [],
   "source": [
    "slc = slice(0,-1)\n",
    "\n",
    "plt.figure(figsize=(20,4))\n",
    "plt.imshow(samples_z[None,slc], aspect=\"auto\")"
   ]
  },
  {
   "cell_type": "code",
   "execution_count": null,
   "metadata": {
    "collapsed": false
   },
   "outputs": [],
   "source": [
    "torch.nn.Softmax(dim=1)(model.Pi)"
   ]
  },
  {
   "cell_type": "code",
   "execution_count": null,
   "metadata": {
    "collapsed": true
   },
   "outputs": [],
   "source": [
    "samples_z, samples_x = model.sample(1000)"
   ]
  },
  {
   "cell_type": "code",
   "execution_count": null,
   "metadata": {
    "collapsed": false
   },
   "outputs": [],
   "source": [
    "samples_z = model.sample_z(1000)"
   ]
  },
  {
   "cell_type": "code",
   "execution_count": null,
   "metadata": {
    "collapsed": false
   },
   "outputs": [],
   "source": [
    "torch.nn.Softmax(dim=0)(model.pi0)"
   ]
  },
  {
   "cell_type": "markdown",
   "metadata": {},
   "source": [
    "issue: transition matrix collapse.. try to add more states?\n",
    "\n",
    "What it means is that: there is only one state, and one dynamic... so it can be fit well.... and probably over-fitted.\n"
   ]
  },
  {
   "cell_type": "code",
   "execution_count": null,
   "metadata": {
    "collapsed": true
   },
   "outputs": [],
   "source": []
  }
 ],
 "metadata": {
  "kernelspec": {
   "display_name": "ptc",
   "language": "python",
   "name": "ptc"
  },
  "language_info": {
   "codemirror_mode": {
    "name": "ipython",
    "version": 3
   },
   "file_extension": ".py",
   "mimetype": "text/x-python",
   "name": "python",
   "nbconvert_exporter": "python",
   "pygments_lexer": "ipython3",
   "version": "3.7.3"
  }
 },
 "nbformat": 4,
 "nbformat_minor": 2
}
