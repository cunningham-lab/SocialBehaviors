{
 "cells": [
  {
   "cell_type": "code",
   "execution_count": 1,
   "metadata": {
    "collapsed": true
   },
   "outputs": [],
   "source": [
    "import sys\n",
    "sys.path.append(\"/Users/leah/Columbia/courses/19summer/SocialBehavior/SocialBehaviorptc\")"
   ]
  },
  {
   "cell_type": "code",
   "execution_count": 2,
   "metadata": {
    "collapsed": true
   },
   "outputs": [],
   "source": [
    "import matplotlib.pyplot as plt\n",
    "import numpy as np\n",
    "from moviepy.editor import VideoClip\n",
    "from moviepy.video.io.bindings import mplfig_to_npimage\n",
    "\n",
    "import seaborn as sns\n",
    "\n",
    "from ssm_ptc.utils import check_and_convert_to_tensor\n",
    "from project_ssms.plot_utils import get_colors_and_cmap\n",
    "from project_ssms.utils import downsample\n",
    "from project_ssms.grid_utils import add_grid\n",
    "\n",
    "import joblib\n",
    "import torch"
   ]
  },
  {
   "cell_type": "code",
   "execution_count": 3,
   "metadata": {
    "collapsed": false
   },
   "outputs": [],
   "source": [
    "rslt_dir = \"/Users/leah/Columbia/courses/19summer/SocialBehavior/rslts/lineargrid/0922_v05_trainmore/n2K6_6by6_D190922_182457/checkpoint_2/\"\n",
    "numbers_dir = rslt_dir + \"numbers\"\n",
    "model_dir = rslt_dir + \"model\"\n",
    "numbers = joblib.load(numbers_dir)\n",
    "model = joblib.load(model_dir)"
   ]
  },
  {
   "cell_type": "code",
   "execution_count": 4,
   "metadata": {
    "collapsed": false
   },
   "outputs": [
    {
     "data": {
      "text/plain": [
       "6"
      ]
     },
     "execution_count": 4,
     "metadata": {},
     "output_type": "execute_result"
    }
   ],
   "source": [
    "model.K"
   ]
  },
  {
   "cell_type": "code",
   "execution_count": 5,
   "metadata": {
    "collapsed": true
   },
   "outputs": [],
   "source": [
    "x_grids = model.observation.transformation.x_grids\n",
    "y_grids = model.observation.transformation.y_grids"
   ]
  },
  {
   "cell_type": "code",
   "execution_count": 6,
   "metadata": {
    "collapsed": false
   },
   "outputs": [
    {
     "data": {
      "text/plain": [
       "dict_keys(['z', 'x_predict', 'x_predict_5', 'sample_z', 'sample_x', 'sample_z_center', 'sample_x_center', 'losses', 'sample_z_90000', 'sample_x_90000', 'sample_z_center_90000', 'sample_x_center_90000'])"
      ]
     },
     "execution_count": 6,
     "metadata": {},
     "output_type": "execute_result"
    }
   ],
   "source": [
    "numbers.keys()"
   ]
  },
  {
   "cell_type": "code",
   "execution_count": 11,
   "metadata": {
    "collapsed": true
   },
   "outputs": [],
   "source": [
    "video_T = 1000\n",
    "fps = 25\n",
    "duration = int(1000/25)"
   ]
  },
  {
   "cell_type": "code",
   "execution_count": 12,
   "metadata": {
    "collapsed": true
   },
   "outputs": [],
   "source": [
    "x = numbers['sample_x'][:video_T]\n",
    "z = numbers['sample_z'][:video_T]\n",
    "K = model.K"
   ]
  },
  {
   "cell_type": "code",
   "execution_count": 13,
   "metadata": {
    "collapsed": false
   },
   "outputs": [
    {
     "data": {
      "text/plain": [
       "(1000, 4)"
      ]
     },
     "execution_count": 13,
     "metadata": {},
     "output_type": "execute_result"
    }
   ],
   "source": [
    "x.shape"
   ]
  },
  {
   "cell_type": "code",
   "execution_count": 14,
   "metadata": {
    "collapsed": true
   },
   "outputs": [],
   "source": [
    "# import data\n",
    "#x, z, K, \n",
    "#mouse='both'\n",
    "#x_grids=None, \n",
    "#y_grids=None, \n",
    "grid_alpha=0.8\n",
    "xlim=None\n",
    "ylim=None\n",
    "video_name=None\n",
    "interval=2\n",
    "downsample_n=1\n",
    "max_length=None"
   ]
  },
  {
   "cell_type": "code",
   "execution_count": null,
   "metadata": {
    "collapsed": true
   },
   "outputs": [],
   "source": []
  },
  {
   "cell_type": "code",
   "execution_count": null,
   "metadata": {
    "collapsed": true
   },
   "outputs": [],
   "source": []
  }
 ],
 "metadata": {
  "kernelspec": {
   "display_name": "ptc",
   "language": "python",
   "name": "ptc"
  },
  "language_info": {
   "codemirror_mode": {
    "name": "ipython",
    "version": 3
   },
   "file_extension": ".py",
   "mimetype": "text/x-python",
   "name": "python",
   "nbconvert_exporter": "python",
   "pygments_lexer": "ipython3",
   "version": "3.7.3"
  }
 },
 "nbformat": 4,
 "nbformat_minor": 2
}
