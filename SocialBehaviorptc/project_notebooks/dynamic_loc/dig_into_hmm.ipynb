{
 "cells": [
  {
   "cell_type": "code",
   "execution_count": 1,
   "metadata": {
    "collapsed": true
   },
   "outputs": [],
   "source": [
    "import sys\n",
    "sys.path.append(\"/Users/leah/Columbia/courses/19summer/SocialBehavior/SocialBehaviorptc\")"
   ]
  },
  {
   "cell_type": "code",
   "execution_count": 3,
   "metadata": {
    "collapsed": true
   },
   "outputs": [],
   "source": [
    "import numpy as np\n",
    "import torch\n",
    "\n",
    "from ssm_ptc.models.hmm import HMM\n",
    "\n",
    "import matplotlib.pyplot as plt\n",
    "import joblib"
   ]
  },
  {
   "cell_type": "code",
   "execution_count": 5,
   "metadata": {
    "collapsed": true
   },
   "outputs": [],
   "source": [
    "model_dir = \"/Users/leah/Columbia/courses/19summer/SocialBehavior/rslts/hmm/0930_hmm/v05_K10_8by8_D191001_212523/checkpoint_3/\""
   ]
  },
  {
   "cell_type": "code",
   "execution_count": 6,
   "metadata": {
    "collapsed": true
   },
   "outputs": [],
   "source": [
    "model = joblib.load(model_dir + \"model\")"
   ]
  },
  {
   "cell_type": "code",
   "execution_count": 17,
   "metadata": {
    "collapsed": false
   },
   "outputs": [
    {
     "data": {
      "text/plain": [
       "<ssm_ptc.observations.truncated_normal_observation.TruncatedNormalObservation at 0x120df9da0>"
      ]
     },
     "execution_count": 17,
     "metadata": {},
     "output_type": "execute_result"
    }
   ],
   "source": [
    "model.observation"
   ]
  },
  {
   "cell_type": "code",
   "execution_count": 9,
   "metadata": {
    "collapsed": false
   },
   "outputs": [
    {
     "data": {
      "text/plain": [
       "torch.Size([10, 4])"
      ]
     },
     "execution_count": 9,
     "metadata": {},
     "output_type": "execute_result"
    }
   ],
   "source": [
    "model.observation.mus.shape"
   ]
  },
  {
   "cell_type": "code",
   "execution_count": 16,
   "metadata": {
    "collapsed": false
   },
   "outputs": [
    {
     "name": "stdout",
     "output_type": "stream",
     "text": [
      "[1.97654875 0.91862295 0.95173686 0.9331779 ]\n",
      "[5.96887698 7.08909672 5.50170155 4.31583932]\n",
      "[0.85901315 0.84331426 1.87619206 0.84007423]\n",
      "[1.06959169 1.0757271  1.03145474 2.06840414]\n",
      "[2.09063064e-33 2.97539380e-33 1.90194837e-33 3.33352355e-33]\n",
      "[2.13413537e-33 3.02508276e-33 1.93248318e-33 3.39251201e-33]\n",
      "[2.09485254e-33 2.97375093e-33 1.89930760e-33 3.33610368e-33]\n",
      "[2.22391828e-33 3.17822148e-33 2.03218164e-33 3.55933339e-33]\n",
      "[2.21929258e-33 3.16154817e-33 2.01956682e-33 3.54607188e-33]\n",
      "[2.20722906e-33 3.18586231e-33 2.04020135e-33 3.55906750e-33]\n"
     ]
    }
   ],
   "source": [
    "for k in range(10):\n",
    "    print(model.observation.mus[k].detach().numpy())"
   ]
  },
  {
   "cell_type": "code",
   "execution_count": null,
   "metadata": {
    "collapsed": true
   },
   "outputs": [],
   "source": [
    "# try HMM to single animal first\n",
    "# try 4 by 4 K, and set mus to be 16 different locations\n",
    "# increase learning rates"
   ]
  }
 ],
 "metadata": {
  "kernelspec": {
   "display_name": "ptc",
   "language": "python",
   "name": "ptc"
  },
  "language_info": {
   "codemirror_mode": {
    "name": "ipython",
    "version": 3
   },
   "file_extension": ".py",
   "mimetype": "text/x-python",
   "name": "python",
   "nbconvert_exporter": "python",
   "pygments_lexer": "ipython3",
   "version": "3.7.3"
  }
 },
 "nbformat": 4,
 "nbformat_minor": 2
}
