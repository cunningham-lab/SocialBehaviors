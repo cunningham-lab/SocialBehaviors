{
 "cells": [
  {
   "cell_type": "code",
   "execution_count": 1,
   "metadata": {
    "collapsed": true
   },
   "outputs": [],
   "source": [
    "import sys\n",
    "sys.path.append('/Users/leah/Columbia/courses/19summer/SocialBehavior/SocialBehaviorptc')"
   ]
  },
  {
   "cell_type": "code",
   "execution_count": 3,
   "metadata": {
    "collapsed": false
   },
   "outputs": [],
   "source": [
    "from ssm_ptc.models.hmm import HMM\n",
    "from ssm_ptc.distributions.truncatednormal import TruncatedNormal\n",
    "from ssm_ptc.utils import find_permutation, random_rotation, k_step_prediction\n",
    "\n",
    "from project_ssms.coupled_momentum_observation import CoupledMomentumObservation, CoupledMomentumTransformation\n",
    "from project_ssms.momentum_utils import filter_traj_by_speed\n",
    "from project_ssms.utils import k_step_prediction_for_coupled_momentum_model\n",
    "\n",
    "import torch\n",
    "import numpy as np\n",
    "import numpy.random as npr\n",
    "import matplotlib.pyplot as plt\n",
    "\n",
    "import seaborn as sns\n",
    "sns.set_style(\"white\")\n",
    "sns.set_context(\"talk\")\n",
    "\n",
    "#from tqdm import trange\n",
    "from tqdm import tqdm_notebook as tqdm\n",
    "\n",
    "import time\n",
    "\n",
    "from hips.plotting.colormaps import gradient_cmap, white_to_color_cmap\n",
    "color_names = [\n",
    "    \"windows blue\",\n",
    "    \"red\",\n",
    "    \"amber\",\n",
    "    \"faded green\",\n",
    "    \"dusty purple\",\n",
    "    \"orange\"\n",
    "    ]\n",
    "\n",
    "colors = sns.xkcd_palette(color_names)\n",
    "cmap = gradient_cmap(colors)"
   ]
  },
  {
   "cell_type": "markdown",
   "metadata": {},
   "source": [
    "# data"
   ]
  },
  {
   "cell_type": "code",
   "execution_count": 5,
   "metadata": {
    "collapsed": false
   },
   "outputs": [],
   "source": [
    "import joblib\n",
    "\n",
    "datasets_processed = joblib.load('/Users/leah/Columbia/courses/19summer/SocialBehavior/tracedata/all_data_3_1')  # a list of length 30, each is a social_dataset\n",
    "\n",
    "session_data = datasets_processed[0].render_trajectories([3,8])\n",
    "traj0 = np.concatenate((session_data), axis=1)"
   ]
  },
  {
   "cell_type": "code",
   "execution_count": 6,
   "metadata": {
    "collapsed": true
   },
   "outputs": [],
   "source": [
    "del datasets_processed"
   ]
  },
  {
   "cell_type": "code",
   "execution_count": 7,
   "metadata": {
    "collapsed": true
   },
   "outputs": [],
   "source": [
    "del session_data"
   ]
  },
  {
   "cell_type": "code",
   "execution_count": 8,
   "metadata": {
    "collapsed": true
   },
   "outputs": [],
   "source": [
    "f_traj = filter_traj_by_speed(traj0, q1=0.99, q2=0.99)"
   ]
  },
  {
   "cell_type": "code",
   "execution_count": 9,
   "metadata": {
    "collapsed": true
   },
   "outputs": [],
   "source": [
    "arena_xmin = 10\n",
    "arena_xmax = 320\n",
    "\n",
    "arena_ymin = -10\n",
    "arena_ymax = 390\n",
    "\n",
    "WATER = torch.tensor([50, 50], dtype=torch.float64)\n",
    "FOOD = torch.tensor([270, 50], dtype=torch.float64)\n",
    "NEST = torch.tensor([270, 330], dtype=torch.float64)\n",
    "CORNER = torch.tensor([50, 330], dtype=torch.float64)"
   ]
  },
  {
   "cell_type": "markdown",
   "metadata": {},
   "source": [
    "# model"
   ]
  },
  {
   "cell_type": "markdown",
   "metadata": {},
   "source": [
    "$$ x_t \\sim x_{t-1} +  2 * \\sigma(\\alpha_k) m_t + v_{max} \\sigma(W_k x_{t-1} + b_k))  \\qquad | \\qquad z_t =k$$ \n",
    "\n",
    "where\n",
    "\n",
    "- $m_t$ is the momentum vector, obtained by applying a (weighted) linear regression to the past #lags observations, and scaling the fitted vector by 1/#lags.\n",
    "- $v_{max}$ = 6\n",
    "- features here are:\n",
    "     - unit_vector_to_other,\n",
    "     - lambda s, o: unit_vector_to_fixed_loc(s, o, WATER),\n",
    "     - lambda s, o: unit_vector_to_fixed_loc(s, o, NEST),\n",
    "     - lambda s, o: unit_vector_to_fixed_loc(s, o, FOOD),\n",
    "     - lambda s, o: unit_vector_to_fixed_loc(s, o, CORNER),\n"
   ]
  },
  {
   "cell_type": "code",
   "execution_count": 10,
   "metadata": {
    "collapsed": true
   },
   "outputs": [],
   "source": [
    "momentum_lags = 30\n",
    "momentum_weights = np.arange(0.55, 2.05, 0.05)"
   ]
  },
  {
   "cell_type": "code",
   "execution_count": 11,
   "metadata": {
    "collapsed": true
   },
   "outputs": [],
   "source": [
    "torch.manual_seed(0)\n",
    "np.random.seed(0)\n",
    "\n",
    "bounds = np.array([[arena_xmin - 5, arena_xmax + 5], [arena_ymin - 5, arena_ymax + 5], \n",
    "                   [arena_xmin - 5, arena_xmax + 5], [arena_ymin - 5, arena_ymax + 5]])\n",
    "\n",
    "max_v = np.array([5.0, 5.0, 5.0, 5.0])\n",
    "\n",
    "acc_factor=2\n",
    "\n",
    "K = 2\n",
    "D = 4\n",
    "T = 36000\n",
    "\n",
    "observation = CoupledMomentumObservation(K=K, D=D, M=0, bounds=bounds, \n",
    "                                         momentum_lags=momentum_lags,momentum_weights=momentum_weights,\n",
    "                                         max_v=max_v, acc_factor=acc_factor)\n",
    "\n",
    "\n",
    "model = HMM(K=K, D=D, M=0, observation=observation)\n",
    "m_tran = model.observation.transformation"
   ]
  },
  {
   "cell_type": "code",
   "execution_count": 12,
   "metadata": {
    "collapsed": true
   },
   "outputs": [],
   "source": [
    "data = torch.tensor(f_traj, dtype=torch.float64)"
   ]
  },
  {
   "cell_type": "code",
   "execution_count": 14,
   "metadata": {
    "collapsed": false
   },
   "outputs": [],
   "source": [
    "momentum_vecs = CoupledMomentumTransformation._compute_momentum_vecs(data[:-1],\n",
    "                                                                     lags=momentum_lags, \n",
    "                                                                     weights=momentum_weights)"
   ]
  },
  {
   "cell_type": "code",
   "execution_count": 33,
   "metadata": {
    "collapsed": true
   },
   "outputs": [],
   "source": [
    "model.observation.mus_init = data[0] * torch.ones(K, D, dtype=torch.float64)"
   ]
  },
  {
   "cell_type": "code",
   "execution_count": 20,
   "metadata": {
    "collapsed": false
   },
   "outputs": [
    {
     "data": {
      "text/plain": [
       "tensor(-2078158.9465, dtype=torch.float64,\n",
       "       grad_fn=<HMMNormalizerCythonBackward>)"
      ]
     },
     "execution_count": 20,
     "metadata": {},
     "output_type": "execute_result"
    }
   ],
   "source": [
    "model.log_likelihood(data, momentum_vecs=momentum_vecs)"
   ]
  },
  {
   "cell_type": "markdown",
   "metadata": {},
   "source": [
    "# training"
   ]
  },
  {
   "cell_type": "code",
   "execution_count": 21,
   "metadata": {
    "collapsed": false
   },
   "outputs": [
    {
     "name": "stderr",
     "output_type": "stream",
     "text": [
      "iter 4990 loss 441710.40: 100%|██████████| 5000/5000 [30:03<00:00,  2.45it/s]  | 0/5000 [00:00<?, ?it/s]\n"
     ]
    }
   ],
   "source": [
    "##################### training ############################\n",
    "\n",
    "num_iters = 5000\n",
    "losses, opt = model.fit(data, num_iters=num_iters, lr=0.005, momentum_vecs=momentum_vecs)"
   ]
  },
  {
   "cell_type": "code",
   "execution_count": 34,
   "metadata": {
    "collapsed": false
   },
   "outputs": [
    {
     "name": "stderr",
     "output_type": "stream",
     "text": [
      "iter 2990 loss 441694.05: 100%|██████████| 3000/3000 [18:32<00:00,  2.57it/s] | 0/3000 [00:00<?, ?it/s]\n"
     ]
    }
   ],
   "source": [
    "num_iters = 3000\n",
    "losses_1, opt_1 = model.fit(data, num_iters=num_iters, lr=0.001, momentum_vecs=momentum_vecs)"
   ]
  },
  {
   "cell_type": "code",
   "execution_count": 37,
   "metadata": {
    "collapsed": false
   },
   "outputs": [
    {
     "data": {
      "text/plain": [
       "[<matplotlib.lines.Line2D at 0x1227bd470>]"
      ]
     },
     "execution_count": 37,
     "metadata": {},
     "output_type": "execute_result"
    },
    {
     "data": {
      "image/png": "[encoded data removed]",
      "text/plain": [
       "<Figure size 432x288 with 1 Axes>"
      ]
     },
     "metadata": {},
     "output_type": "display_data"
    }
   ],
   "source": [
    "plt.plot(losses[2000:])"
   ]
  },
  {
   "cell_type": "code",
   "execution_count": null,
   "metadata": {
    "collapsed": true
   },
   "outputs": [],
   "source": []
  },
  {
   "cell_type": "markdown",
   "metadata": {},
   "source": [
    "# samples"
   ]
  },
  {
   "cell_type": "code",
   "execution_count": 24,
   "metadata": {
    "collapsed": true
   },
   "outputs": [],
   "source": [
    "sample_z, sample_x = model.sample(T)"
   ]
  },
  {
   "cell_type": "code",
   "execution_count": 25,
   "metadata": {
    "collapsed": false
   },
   "outputs": [
    {
     "data": {
      "image/png": "[encoded data removed]",
      "text/plain": [
       "<Figure size 720x288 with 2 Axes>"
      ]
     },
     "metadata": {},
     "output_type": "display_data"
    }
   ],
   "source": [
    "plt.figure(figsize=(10,4))\n",
    "\n",
    "plt.subplot(1,2,1)\n",
    "plt.plot(sample_x[:,0], sample_x[:,1])\n",
    "plt.xlim(arena_xmin, arena_xmax)\n",
    "plt.ylim(arena_ymin, arena_ymax)\n",
    "plt.subplot(1,2,2)\n",
    "plt.plot(sample_x[:,2], sample_x[:,3])\n",
    "plt.xlim(arena_xmin, arena_xmax)\n",
    "plt.ylim(arena_ymin, arena_ymax)\n",
    "\n",
    "plt.tight_layout()"
   ]
  },
  {
   "cell_type": "code",
   "execution_count": 26,
   "metadata": {
    "collapsed": true
   },
   "outputs": [],
   "source": [
    "model.observation.mus_init =torch.tensor([150, 170, 150, 170], dtype=torch.float64)"
   ]
  },
  {
   "cell_type": "code",
   "execution_count": 27,
   "metadata": {
    "collapsed": true
   },
   "outputs": [],
   "source": [
    "sample_z, sample_x = model.sample(T)"
   ]
  },
  {
   "cell_type": "code",
   "execution_count": 28,
   "metadata": {
    "collapsed": false
   },
   "outputs": [
    {
     "data": {
      "image/png": "[encoded data removed]",
      "text/plain": [
       "<Figure size 720x288 with 2 Axes>"
      ]
     },
     "metadata": {},
     "output_type": "display_data"
    }
   ],
   "source": [
    "plt.figure(figsize=(10,4))\n",
    "\n",
    "plt.subplot(1,2,1)\n",
    "plt.plot(sample_x[:,0], sample_x[:,1])\n",
    "plt.xlim(arena_xmin, arena_xmax)\n",
    "plt.ylim(arena_ymin, arena_ymax)\n",
    "plt.subplot(1,2,2)\n",
    "plt.plot(sample_x[:,2], sample_x[:,3])\n",
    "plt.xlim(arena_xmin, arena_xmax)\n",
    "plt.ylim(arena_ymin, arena_ymax)\n",
    "\n",
    "plt.tight_layout()"
   ]
  },
  {
   "cell_type": "code",
   "execution_count": null,
   "metadata": {
    "collapsed": true
   },
   "outputs": [],
   "source": []
  }
 ],
 "metadata": {
  "kernelspec": {
   "display_name": "ptc",
   "language": "python",
   "name": "ptc"
  },
  "language_info": {
   "codemirror_mode": {
    "name": "ipython",
    "version": 3
   },
   "file_extension": ".py",
   "mimetype": "text/x-python",
   "name": "python",
   "nbconvert_exporter": "python",
   "pygments_lexer": "ipython3",
   "version": "3.7.3"
  }
 },
 "nbformat": 4,
 "nbformat_minor": 2
}
