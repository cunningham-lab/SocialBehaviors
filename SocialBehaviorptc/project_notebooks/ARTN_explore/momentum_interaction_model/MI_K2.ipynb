{
 "cells": [
  {
   "cell_type": "code",
   "execution_count": 1,
   "metadata": {
    "collapsed": true
   },
   "outputs": [],
   "source": [
    "import sys\n",
    "sys.path.append('/Users/leah/Columbia/courses/19summer/SocialBehavior/SocialBehaviorptc')"
   ]
  },
  {
   "cell_type": "code",
   "execution_count": 3,
   "metadata": {
    "collapsed": false
   },
   "outputs": [],
   "source": [
    "from ssm_ptc.models.hmm import HMM\n",
    "from ssm_ptc.distributions.truncatednormal import TruncatedNormal\n",
    "from ssm_ptc.utils import find_permutation, random_rotation, k_step_prediction\n",
    "\n",
    "from project_ssms.coupled_momentum_interaction_observation2 import CoupledMomentumInteractionObservation, CoupledMomentumInteractionTransformation\n",
    "from project_ssms.momentum_utils import filter_traj_by_speed\n",
    "from project_ssms.utils import k_step_prediction_for_coupled_momentum_interaction_model\n",
    "\n",
    "import torch\n",
    "import numpy as np\n",
    "import numpy.random as npr\n",
    "import matplotlib.pyplot as plt\n",
    "\n",
    "import seaborn as sns\n",
    "sns.set_style(\"white\")\n",
    "sns.set_context(\"talk\")\n",
    "\n",
    "#from tqdm import trange\n",
    "from tqdm import tqdm_notebook as tqdm\n",
    "\n",
    "import time\n",
    "\n",
    "from hips.plotting.colormaps import gradient_cmap, white_to_color_cmap\n",
    "color_names = [\n",
    "    \"windows blue\",\n",
    "    \"red\",\n",
    "    \"amber\",\n",
    "    \"faded green\",\n",
    "    \"dusty purple\",\n",
    "    \"orange\"\n",
    "    ]\n",
    "\n",
    "colors = sns.xkcd_palette(color_names)\n",
    "cmap = gradient_cmap(colors)"
   ]
  },
  {
   "cell_type": "markdown",
   "metadata": {},
   "source": [
    "# data"
   ]
  },
  {
   "cell_type": "code",
   "execution_count": 4,
   "metadata": {
    "collapsed": true
   },
   "outputs": [],
   "source": [
    "import joblib\n",
    "\n",
    "datasets_processed = joblib.load('/Users/leah/Columbia/courses/19summer/SocialBehavior/tracedata/all_data_3_1')  # a list of length 30, each is a social_dataset\n",
    "\n",
    "session_data = datasets_processed[0].render_trajectories([3,8])\n",
    "traj0 = np.concatenate((session_data), axis=1)"
   ]
  },
  {
   "cell_type": "code",
   "execution_count": 5,
   "metadata": {
    "collapsed": true
   },
   "outputs": [],
   "source": [
    "del datasets_processed\n",
    "del session_data"
   ]
  },
  {
   "cell_type": "code",
   "execution_count": 6,
   "metadata": {
    "collapsed": true
   },
   "outputs": [],
   "source": [
    "f_traj = filter_traj_by_speed(traj0, q1=0.99, q2=0.99)"
   ]
  },
  {
   "cell_type": "code",
   "execution_count": 7,
   "metadata": {
    "collapsed": true
   },
   "outputs": [],
   "source": [
    "arena_xmin = 10\n",
    "arena_xmax = 320\n",
    "\n",
    "arena_ymin = -10\n",
    "arena_ymax = 390\n",
    "\n",
    "WATER = torch.tensor([50, 50], dtype=torch.float64)\n",
    "FOOD = torch.tensor([270, 50], dtype=torch.float64)\n",
    "NEST = torch.tensor([270, 330], dtype=torch.float64)\n",
    "CORNER = torch.tensor([50, 330], dtype=torch.float64)"
   ]
  },
  {
   "cell_type": "markdown",
   "metadata": {},
   "source": [
    "# model"
   ]
  },
  {
   "cell_type": "code",
   "execution_count": 8,
   "metadata": {
    "collapsed": true
   },
   "outputs": [],
   "source": [
    "momentum_lags = 30\n",
    "momentum_weights = np.arange(0.55, 2.05, 0.05)"
   ]
  },
  {
   "cell_type": "code",
   "execution_count": 10,
   "metadata": {
    "collapsed": true
   },
   "outputs": [],
   "source": [
    "data = torch.tensor(f_traj, dtype=torch.float64)"
   ]
  },
  {
   "cell_type": "code",
   "execution_count": 11,
   "metadata": {
    "collapsed": false
   },
   "outputs": [],
   "source": [
    "torch.manual_seed(0)\n",
    "np.random.seed(0)\n",
    "\n",
    "bounds = np.array([[arena_xmin - 5, arena_xmax + 5], [arena_ymin - 5, arena_ymax + 5], \n",
    "                   [arena_xmin - 5, arena_xmax + 5], [arena_ymin - 5, arena_ymax + 5]])\n",
    "\n",
    "max_v = np.array([5.0, 5.0, 5.0, 5.0])\n",
    "\n",
    "m_factor = 2\n",
    "i_factor = 2\n",
    "\n",
    "K = 2\n",
    "D = 4\n",
    "Df = 10\n",
    "T = 36000\n",
    "\n",
    "observation = CoupledMomentumInteractionObservation(K=K, D=D, M=0, bounds=bounds,\n",
    "                                         momentum_lags=momentum_lags,momentum_weights=momentum_weights,\n",
    "                                         max_v=max_v, m_factor=m_factor, i_factor=i_factor)\n",
    "\n",
    "model = HMM(K=K, D=D, M=0, observation=observation)\n",
    "m_tran = model.observation.transformation\n",
    "\n",
    "model.observation.mus_init = data[0] * torch.ones(K, D, dtype=torch.float64)"
   ]
  },
  {
   "cell_type": "code",
   "execution_count": 12,
   "metadata": {
    "collapsed": true
   },
   "outputs": [],
   "source": [
    "momentum_vecs = CoupledMomentumInteractionTransformation._compute_momentum_vecs(data[:-1], lags=momentum_lags)\n",
    "interaction_vecs = CoupledMomentumInteractionTransformation._compute_direction_vecs(data[:-1])"
   ]
  },
  {
   "cell_type": "code",
   "execution_count": 13,
   "metadata": {
    "collapsed": false
   },
   "outputs": [
    {
     "data": {
      "text/plain": [
       "tensor(-2114842.5381, dtype=torch.float64,\n",
       "       grad_fn=<HMMNormalizerCythonBackward>)"
      ]
     },
     "execution_count": 13,
     "metadata": {},
     "output_type": "execute_result"
    }
   ],
   "source": [
    "model.log_likelihood(data, momentum_vecs=momentum_vecs, interaction_vecs=interaction_vecs)"
   ]
  },
  {
   "cell_type": "code",
   "execution_count": 14,
   "metadata": {
    "collapsed": false
   },
   "outputs": [
    {
     "name": "stderr",
     "output_type": "stream",
     "text": [
      "iter 4990 loss 432009.55: 100%|██████████| 5000/5000 [29:32<00:00,  3.20it/s]  | 0/5000 [00:00<?, ?it/s]\n"
     ]
    }
   ],
   "source": [
    "num_iters = 5000\n",
    "losses, opt = model.fit(data, num_iters=num_iters, lr=0.005, momentum_vecs=momentum_vecs, interaction_vecs=interaction_vecs)"
   ]
  },
  {
   "cell_type": "code",
   "execution_count": null,
   "metadata": {
    "collapsed": true
   },
   "outputs": [],
   "source": []
  }
 ],
 "metadata": {
  "kernelspec": {
   "display_name": "ptc",
   "language": "python",
   "name": "ptc"
  },
  "language_info": {
   "codemirror_mode": {
    "name": "ipython",
    "version": 3
   },
   "file_extension": ".py",
   "mimetype": "text/x-python",
   "name": "python",
   "nbconvert_exporter": "python",
   "pygments_lexer": "ipython3",
   "version": "3.7.3"
  }
 },
 "nbformat": 4,
 "nbformat_minor": 2
}
