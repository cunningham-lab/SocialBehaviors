{
 "cells": [
  {
   "cell_type": "code",
   "execution_count": 1,
   "metadata": {},
   "outputs": [],
   "source": [
    "import sys\n",
    "sys.path.append('/Users/leah/Columbia/courses/19summer/SocialBehavior/SocialBehaviorptc')"
   ]
  },
  {
   "cell_type": "code",
   "execution_count": 2,
   "metadata": {},
   "outputs": [
    {
     "ename": "ModuleNotFoundError",
     "evalue": "No module named 'project_ssms.direction_observation'",
     "output_type": "error",
     "traceback": [
      "\u001b[0;31m---------------------------------------------------------------------------\u001b[0m",
      "\u001b[0;31mModuleNotFoundError\u001b[0m                       Traceback (most recent call last)",
      "\u001b[0;32m<ipython-input-2-0a7bb4f07fcc>\u001b[0m in \u001b[0;36m<module>\u001b[0;34m\u001b[0m\n\u001b[1;32m      3\u001b[0m \u001b[0;32mfrom\u001b[0m \u001b[0mssm_ptc\u001b[0m\u001b[0;34m.\u001b[0m\u001b[0mutils\u001b[0m \u001b[0;32mimport\u001b[0m \u001b[0mfind_permutation\u001b[0m\u001b[0;34m,\u001b[0m \u001b[0mrandom_rotation\u001b[0m\u001b[0;34m,\u001b[0m \u001b[0mk_step_prediction\u001b[0m\u001b[0;34m\u001b[0m\u001b[0;34m\u001b[0m\u001b[0m\n\u001b[1;32m      4\u001b[0m \u001b[0;34m\u001b[0m\u001b[0m\n\u001b[0;32m----> 5\u001b[0;31m \u001b[0;32mfrom\u001b[0m \u001b[0mproject_ssms\u001b[0m\u001b[0;34m.\u001b[0m\u001b[0mdirection_observation\u001b[0m \u001b[0;32mimport\u001b[0m \u001b[0mDirectionObservation\u001b[0m\u001b[0;34m,\u001b[0m \u001b[0mDirectionTransformation\u001b[0m\u001b[0;34m\u001b[0m\u001b[0;34m\u001b[0m\u001b[0m\n\u001b[0m\u001b[1;32m      6\u001b[0m \u001b[0;32mfrom\u001b[0m \u001b[0mproject_ssms\u001b[0m\u001b[0;34m.\u001b[0m\u001b[0mfeature_funcs\u001b[0m \u001b[0;32mimport\u001b[0m \u001b[0mfeature_vec_func\u001b[0m\u001b[0;34m\u001b[0m\u001b[0;34m\u001b[0m\u001b[0m\n\u001b[1;32m      7\u001b[0m \u001b[0;32mfrom\u001b[0m \u001b[0mproject_ssms\u001b[0m\u001b[0;34m.\u001b[0m\u001b[0mmomentum_utils\u001b[0m \u001b[0;32mimport\u001b[0m \u001b[0mfilter_traj_by_speed\u001b[0m\u001b[0;34m\u001b[0m\u001b[0;34m\u001b[0m\u001b[0m\n",
      "\u001b[0;31mModuleNotFoundError\u001b[0m: No module named 'project_ssms.direction_observation'"
     ]
    }
   ],
   "source": [
    "from ssm_ptc.models.hmm import HMM\n",
    "from ssm_ptc.distributions.truncatednormal import TruncatedNormal\n",
    "from ssm_ptc.utils import find_permutation, random_rotation, k_step_prediction\n",
    "\n",
    "from project_ssms.direction_observation import DirectionObservation, DirectionTransformation\n",
    "from project_ssms.feature_funcs import feature_vec_func\n",
    "from project_ssms.momentum_utils import filter_traj_by_speed\n",
    "from project_ssms.utils import k_step_prediction_for_direction_model\n",
    "from project_ssms.plot_utils import plot_z, plot_2_mice, plot_4_traces\n",
    "\n",
    "import torch\n",
    "import numpy as np\n",
    "import numpy.random as npr\n",
    "import matplotlib.pyplot as plt\n",
    "\n",
    "import seaborn as sns\n",
    "sns.set_style(\"white\")\n",
    "sns.set_context(\"talk\")\n",
    "\n",
    "#from tqdm import trange\n",
    "from tqdm import tqdm_notebook as tqdm\n",
    "\n",
    "import time\n",
    "\n",
    "from hips.plotting.colormaps import gradient_cmap, white_to_color_cmap\n",
    "color_names = [\n",
    "    \"windows blue\",\n",
    "    \"red\",\n",
    "    \"amber\",\n",
    "    \"faded green\",\n",
    "    \"dusty purple\",\n",
    "    \"orange\"\n",
    "    ]\n",
    "\n",
    "colors = sns.xkcd_palette(color_names)\n",
    "cmap = gradient_cmap(colors)"
   ]
  },
  {
   "cell_type": "markdown",
   "metadata": {},
   "source": [
    "# data"
   ]
  },
  {
   "cell_type": "code",
   "execution_count": null,
   "metadata": {},
   "outputs": [],
   "source": [
    "import joblib\n",
    "\n",
    "datasets_processed = joblib.load('/Users/leah/Columbia/courses/19summer/SocialBehavior/tracedata/all_data_3_1')  # a list of length 30, each is a social_dataset\n",
    "\n",
    "session_data = datasets_processed[0].render_trajectories([3,8])\n",
    "traj0 = np.concatenate((session_data), axis=1)"
   ]
  },
  {
   "cell_type": "code",
   "execution_count": null,
   "metadata": {},
   "outputs": [],
   "source": [
    "del datasets_processed"
   ]
  },
  {
   "cell_type": "code",
   "execution_count": null,
   "metadata": {},
   "outputs": [],
   "source": [
    "del session_data"
   ]
  },
  {
   "cell_type": "code",
   "execution_count": null,
   "metadata": {},
   "outputs": [],
   "source": [
    "f_traj = filter_traj_by_speed(traj0, q1=0.99, q2=0.99)"
   ]
  },
  {
   "cell_type": "code",
   "execution_count": null,
   "metadata": {},
   "outputs": [],
   "source": [
    "arena_xmin = 10\n",
    "arena_xmax = 320\n",
    "\n",
    "arena_ymin = -10\n",
    "arena_ymax = 390\n",
    "\n",
    "WATER = torch.tensor([50, 50], dtype=torch.float64)\n",
    "FOOD = torch.tensor([270, 50], dtype=torch.float64)\n",
    "NEST = torch.tensor([270, 330], dtype=torch.float64)\n",
    "CORNER = torch.tensor([50, 330], dtype=torch.float64)"
   ]
  },
  {
   "cell_type": "code",
   "execution_count": null,
   "metadata": {},
   "outputs": [],
   "source": [
    "data = torch.tensor(f_traj, dtype=torch.float64)"
   ]
  },
  {
   "cell_type": "markdown",
   "metadata": {},
   "source": [
    "# model"
   ]
  },
  {
   "cell_type": "markdown",
   "metadata": {},
   "source": [
    "$$x^a_t \\sim x^a_{t-1} + s * [ \\sigma(W^a_0) m_t  + \\sum_{i=1}^{Df} \\sigma(W^a_i) f_i ]$$\n",
    "\n",
    "$$x^b_t \\sim x^b_{t-1} + s * [ \\sigma(W^b_0) m_t  + \\sum_{i=1}^{Df} \\sigma(W^b_i) f_i ]$$"
   ]
  },
  {
   "cell_type": "code",
   "execution_count": null,
   "metadata": {},
   "outputs": [],
   "source": [
    "momentum_lags = 30\n",
    "momentum_weights = np.arange(0.55, 2.05, 0.05)"
   ]
  },
  {
   "cell_type": "code",
   "execution_count": null,
   "metadata": {},
   "outputs": [],
   "source": [
    "torch.manual_seed(0)\n",
    "np.random.seed(0)\n",
    "\n",
    "bounds = np.array([[arena_xmin - 5, arena_xmax + 5], [arena_ymin - 5, arena_ymax + 5], \n",
    "                   [arena_xmin - 5, arena_xmax + 5], [arena_ymin - 5, arena_ymax + 5]])\n",
    "\n",
    "max_v = np.array([5.0, 5.0, 5.0, 5.0])\n",
    "\n",
    "acc_factor=2\n",
    "\n",
    "K = 6\n",
    "D = 4\n",
    "Df = 5\n",
    "T = 36000\n",
    "\n",
    "observation = DirectionObservation(K=K, D=D, M=0, bounds=bounds,\n",
    "                                         momentum_lags=momentum_lags,momentum_weights=momentum_weights,\n",
    "                                        Df=Df, feature_vec_func=feature_vec_func, acc_factor=acc_factor)\n",
    "\n",
    "model = HMM(K=K, D=D, M=0, observation=observation)\n",
    "m_tran = model.observation.transformation"
   ]
  },
  {
   "cell_type": "code",
   "execution_count": null,
   "metadata": {},
   "outputs": [],
   "source": [
    "model.observation.mus_init = data[0] * torch.ones(K, D, dtype=torch.float64)"
   ]
  },
  {
   "cell_type": "code",
   "execution_count": null,
   "metadata": {},
   "outputs": [],
   "source": [
    "momentum_vecs = DirectionTransformation._compute_momentum_vecs(data[:-1],\n",
    "                                                                     lags=momentum_lags, \n",
    "                                                                     weights=momentum_weights)\n",
    "features = DirectionTransformation._compute_features(m_tran.feature_vec_func, data[:-1])"
   ]
  },
  {
   "cell_type": "code",
   "execution_count": null,
   "metadata": {},
   "outputs": [],
   "source": [
    "model.log_likelihood(data)"
   ]
  },
  {
   "cell_type": "markdown",
   "metadata": {},
   "source": [
    "# training"
   ]
  },
  {
   "cell_type": "code",
   "execution_count": null,
   "metadata": {},
   "outputs": [],
   "source": [
    "##################### training ############################\n",
    "\n",
    "num_iters = 2000\n",
    "losses, opt = model.fit(data, num_iters=num_iters, lr=0.005, momentum_vecs=momentum_vecs, features=features)"
   ]
  },
  {
   "cell_type": "code",
   "execution_count": null,
   "metadata": {},
   "outputs": [],
   "source": [
    "num_iters = 1000\n",
    "losses_1, _ = model.fit(data, optimizer=opt, num_iters=num_iters, momentum_vecs=momentum_vecs, features=features)"
   ]
  },
  {
   "cell_type": "code",
   "execution_count": null,
   "metadata": {},
   "outputs": [],
   "source": [
    "plt.plot(losses_1)"
   ]
  },
  {
   "cell_type": "code",
   "execution_count": null,
   "metadata": {},
   "outputs": [],
   "source": [
    "z = model.most_likely_states(data)"
   ]
  },
  {
   "cell_type": "code",
   "execution_count": null,
   "metadata": {},
   "outputs": [],
   "source": [
    "x_predict = k_step_prediction_for_direction_model(model, z, data, momentum_vecs=momentum_vecs, features=features)"
   ]
  },
  {
   "cell_type": "code",
   "execution_count": null,
   "metadata": {},
   "outputs": [],
   "source": [
    "plot_z(z)"
   ]
  },
  {
   "cell_type": "code",
   "execution_count": null,
   "metadata": {},
   "outputs": [],
   "source": [
    "plt.figure(figsize=(20,2))\n",
    "plt.plot(x_predict[:,0], label='prediction')\n",
    "plt.plot(data[:,0].numpy(), label='truth')\n",
    "plt.legend();"
   ]
  },
  {
   "cell_type": "code",
   "execution_count": null,
   "metadata": {},
   "outputs": [],
   "source": [
    "x_predict_5_step = k_step_prediction(model, z, data, k=5)"
   ]
  },
  {
   "cell_type": "code",
   "execution_count": null,
   "metadata": {},
   "outputs": [],
   "source": [
    "plt.figure(figsize=(20,2))\n",
    "plt.plot(x_predict_5_step[:,0], label='prediction')\n",
    "plt.plot(data[5:,0].numpy(), label='truth')\n",
    "plt.legend();"
   ]
  },
  {
   "cell_type": "code",
   "execution_count": null,
   "metadata": {},
   "outputs": [],
   "source": [
    "x_predict_10_step = k_step_prediction(model, z, data, k=10)"
   ]
  },
  {
   "cell_type": "code",
   "execution_count": null,
   "metadata": {},
   "outputs": [],
   "source": [
    "plt.figure(figsize=(20,2))\n",
    "plt.plot(x_predict_10_step[:,0], label='prediction')\n",
    "plt.plot(data[10:,0].numpy(), label='truth')\n",
    "plt.legend();"
   ]
  },
  {
   "cell_type": "code",
   "execution_count": null,
   "metadata": {},
   "outputs": [],
   "source": [
    "np.average(abs(x_predict - data.numpy()), axis=0)"
   ]
  },
  {
   "cell_type": "code",
   "execution_count": null,
   "metadata": {},
   "outputs": [],
   "source": [
    "np.average(abs(x_predict_5_step - data[5:].numpy()), axis=0)"
   ]
  },
  {
   "cell_type": "code",
   "execution_count": null,
   "metadata": {},
   "outputs": [],
   "source": [
    "np.average(abs(x_predict_10_step - data[10:].numpy()), axis=0)"
   ]
  },
  {
   "cell_type": "markdown",
   "metadata": {},
   "source": [
    "# samples"
   ]
  },
  {
   "cell_type": "code",
   "execution_count": null,
   "metadata": {},
   "outputs": [],
   "source": [
    "sample_z, sample_x = model.sample(T)"
   ]
  },
  {
   "cell_type": "code",
   "execution_count": null,
   "metadata": {},
   "outputs": [],
   "source": [
    "[sum(sample_z == k) for k in range(K)]"
   ]
  },
  {
   "cell_type": "code",
   "execution_count": null,
   "metadata": {},
   "outputs": [],
   "source": [
    "plot_2_mice(sample_x)"
   ]
  },
  {
   "cell_type": "code",
   "execution_count": null,
   "metadata": {},
   "outputs": [],
   "source": [
    "plt.figure(figsize=(10,4))\n",
    "\n",
    "plt.subplot(1,2,1)\n",
    "plt.plot(sample_x[:,0], sample_x[:,1])\n",
    "plt.xlim(arena_xmin, arena_xmax)\n",
    "plt.ylim(arena_ymin, arena_ymax)\n",
    "plt.title(\"virgin\")\n",
    "plt.subplot(1,2,2)\n",
    "plt.plot(sample_x[:,2], sample_x[:,3])\n",
    "plt.xlim(arena_xmin, arena_xmax)\n",
    "plt.ylim(arena_ymin, arena_ymax)\n",
    "plt.title(\"mother\")\n",
    "\n",
    "plt.tight_layout()"
   ]
  },
  {
   "cell_type": "code",
   "execution_count": null,
   "metadata": {},
   "outputs": [],
   "source": [
    "plt.figure(figsize=(20, 4))\n",
    "\n",
    "plt.subplot(1, 4, 1)\n",
    "plt.hist(sample_x[:,0], bins=100);\n",
    "plt.title(\"x1\")\n",
    "plt.subplot(1, 4, 2)\n",
    "plt.hist(sample_x[:,1], bins=100);\n",
    "plt.title(\"y1\")\n",
    "plt.subplot(1, 4, 3)\n",
    "plt.hist(sample_x[:,2], bins=100);\n",
    "plt.title(\"x2\")\n",
    "plt.subplot(1, 4, 4)\n",
    "plt.hist(sample_x[:,3], bins=100);\n",
    "plt.title(\"y2\")\n",
    "\n",
    "plt.tight_layout()"
   ]
  },
  {
   "cell_type": "code",
   "execution_count": null,
   "metadata": {},
   "outputs": [],
   "source": [
    "plt.figure(figsize=(20, 4))\n",
    "\n",
    "plt.subplot(1, 4, 1)\n",
    "plt.hist(f_traj[:,0], bins=100);\n",
    "plt.title(\"x1\")\n",
    "plt.subplot(1, 4, 2)\n",
    "plt.hist(f_traj[:,1], bins=100);\n",
    "plt.title(\"y1\")\n",
    "plt.subplot(1, 4, 3)\n",
    "plt.hist(f_traj[:,2], bins=100);\n",
    "plt.title(\"x2\")\n",
    "plt.subplot(1, 4, 4)\n",
    "plt.hist(f_traj[:,3], bins=100);\n",
    "plt.title(\"y2\")\n",
    "\n",
    "plt.tight_layout()"
   ]
  },
  {
   "cell_type": "code",
   "execution_count": null,
   "metadata": {},
   "outputs": [],
   "source": [
    "torch.sigmoid(m_tran.Ws[0,0])"
   ]
  },
  {
   "cell_type": "code",
   "execution_count": null,
   "metadata": {},
   "outputs": [],
   "source": [
    "torch.sigmoid(m_tran.Ws[1,0])"
   ]
  },
  {
   "cell_type": "code",
   "execution_count": null,
   "metadata": {},
   "outputs": [],
   "source": [
    "torch.sigmoid(m_tran.Ws[2,0])"
   ]
  },
  {
   "cell_type": "code",
   "execution_count": null,
   "metadata": {},
   "outputs": [],
   "source": [
    "torch.sigmoid(m_tran.Ws[3,0])"
   ]
  },
  {
   "cell_type": "code",
   "execution_count": null,
   "metadata": {},
   "outputs": [],
   "source": [
    "torch.sigmoid(m_tran.Ws[4,0])"
   ]
  },
  {
   "cell_type": "code",
   "execution_count": null,
   "metadata": {},
   "outputs": [],
   "source": [
    "torch.sigmoid(m_tran.Ws[5,0])"
   ]
  },
  {
   "cell_type": "markdown",
   "metadata": {},
   "source": [
    "does not vary very much.."
   ]
  },
  {
   "cell_type": "code",
   "execution_count": null,
   "metadata": {},
   "outputs": [],
   "source": [
    "torch.exp(model.observation.log_sigmas)"
   ]
  },
  {
   "cell_type": "markdown",
   "metadata": {},
   "source": []
  }
 ],
 "metadata": {
  "kernelspec": {
   "display_name": "ptc",
   "language": "python",
   "name": "ptc"
  },
  "language_info": {
   "codemirror_mode": {
    "name": "ipython",
    "version": 3
   },
   "file_extension": ".py",
   "mimetype": "text/x-python",
   "name": "python",
   "nbconvert_exporter": "python",
   "pygments_lexer": "ipython3",
   "version": "3.7.3"
  }
 },
 "nbformat": 4,
 "nbformat_minor": 2
}
